{
 "cells": [
  {
   "cell_type": "markdown",
   "id": "aee6eb42-2c84-479a-b12f-4475e9741964",
   "metadata": {},
   "source": [
    "# Objectif\n",
    "\n",
    "Récupérer les données brutes à l'adresse:\n",
    "`https://raw.githubusercontent.com/VPerrollaz/immobilier/master/donnees/brute.json`\n",
    "\n",
    "Puis produire un dataset propre à faire du machine learning."
   ]
  },
  {
   "cell_type": "code",
   "execution_count": 1,
   "id": "bb7ebf2a-562f-4480-a50a-a11060c6790e",
   "metadata": {},
   "outputs": [],
   "source": [
    "ADRESSE = \"https://raw.githubusercontent.com/VPerrollaz/immobilier/master/donnees/brute.json\""
   ]
  },
  {
   "cell_type": "code",
   "execution_count": 2,
   "id": "4fc8af97-d85a-4c27-ade5-4540f2ed9f50",
   "metadata": {},
   "outputs": [],
   "source": [
    "from requests import get"
   ]
  },
  {
   "cell_type": "code",
   "execution_count": 3,
   "id": "2a3ab149-a0e2-4a65-8fd2-8b891c8f1674",
   "metadata": {},
   "outputs": [],
   "source": [
    "page = get(ADRESSE)"
   ]
  },
  {
   "cell_type": "code",
   "execution_count": 4,
   "id": "f9f48d53-3d8b-46d7-ad82-1e15cca3db6a",
   "metadata": {},
   "outputs": [],
   "source": [
    "contenu = page.text"
   ]
  },
  {
   "cell_type": "code",
   "execution_count": 5,
   "id": "c82d687a-ac8f-4e4d-83cb-d781786708d1",
   "metadata": {},
   "outputs": [],
   "source": [
    "import json"
   ]
  },
  {
   "cell_type": "code",
   "execution_count": 6,
   "id": "31326b06-d972-4b56-b6a9-ef6cff87b66e",
   "metadata": {},
   "outputs": [
    {
     "ename": "JSONDecodeError",
     "evalue": "Extra data: line 2 column 1 (char 445)",
     "output_type": "error",
     "traceback": [
      "\u001b[0;31m---------------------------------------------------------------------------\u001b[0m",
      "\u001b[0;31mJSONDecodeError\u001b[0m                           Traceback (most recent call last)",
      "Cell \u001b[0;32mIn[6], line 1\u001b[0m\n\u001b[0;32m----> 1\u001b[0m \u001b[43mjson\u001b[49m\u001b[38;5;241;43m.\u001b[39;49m\u001b[43mloads\u001b[49m\u001b[43m(\u001b[49m\u001b[43ms\u001b[49m\u001b[38;5;241;43m=\u001b[39;49m\u001b[43mcontenu\u001b[49m\u001b[43m)\u001b[49m\n",
      "File \u001b[0;32m~/.pyenv/versions/3.11.0/lib/python3.11/json/__init__.py:346\u001b[0m, in \u001b[0;36mloads\u001b[0;34m(s, cls, object_hook, parse_float, parse_int, parse_constant, object_pairs_hook, **kw)\u001b[0m\n\u001b[1;32m    341\u001b[0m     s \u001b[38;5;241m=\u001b[39m s\u001b[38;5;241m.\u001b[39mdecode(detect_encoding(s), \u001b[38;5;124m'\u001b[39m\u001b[38;5;124msurrogatepass\u001b[39m\u001b[38;5;124m'\u001b[39m)\n\u001b[1;32m    343\u001b[0m \u001b[38;5;28;01mif\u001b[39;00m (\u001b[38;5;28mcls\u001b[39m \u001b[38;5;129;01mis\u001b[39;00m \u001b[38;5;28;01mNone\u001b[39;00m \u001b[38;5;129;01mand\u001b[39;00m object_hook \u001b[38;5;129;01mis\u001b[39;00m \u001b[38;5;28;01mNone\u001b[39;00m \u001b[38;5;129;01mand\u001b[39;00m\n\u001b[1;32m    344\u001b[0m         parse_int \u001b[38;5;129;01mis\u001b[39;00m \u001b[38;5;28;01mNone\u001b[39;00m \u001b[38;5;129;01mand\u001b[39;00m parse_float \u001b[38;5;129;01mis\u001b[39;00m \u001b[38;5;28;01mNone\u001b[39;00m \u001b[38;5;129;01mand\u001b[39;00m\n\u001b[1;32m    345\u001b[0m         parse_constant \u001b[38;5;129;01mis\u001b[39;00m \u001b[38;5;28;01mNone\u001b[39;00m \u001b[38;5;129;01mand\u001b[39;00m object_pairs_hook \u001b[38;5;129;01mis\u001b[39;00m \u001b[38;5;28;01mNone\u001b[39;00m \u001b[38;5;129;01mand\u001b[39;00m \u001b[38;5;129;01mnot\u001b[39;00m kw):\n\u001b[0;32m--> 346\u001b[0m     \u001b[38;5;28;01mreturn\u001b[39;00m \u001b[43m_default_decoder\u001b[49m\u001b[38;5;241;43m.\u001b[39;49m\u001b[43mdecode\u001b[49m\u001b[43m(\u001b[49m\u001b[43ms\u001b[49m\u001b[43m)\u001b[49m\n\u001b[1;32m    347\u001b[0m \u001b[38;5;28;01mif\u001b[39;00m \u001b[38;5;28mcls\u001b[39m \u001b[38;5;129;01mis\u001b[39;00m \u001b[38;5;28;01mNone\u001b[39;00m:\n\u001b[1;32m    348\u001b[0m     \u001b[38;5;28mcls\u001b[39m \u001b[38;5;241m=\u001b[39m JSONDecoder\n",
      "File \u001b[0;32m~/.pyenv/versions/3.11.0/lib/python3.11/json/decoder.py:340\u001b[0m, in \u001b[0;36mJSONDecoder.decode\u001b[0;34m(self, s, _w)\u001b[0m\n\u001b[1;32m    338\u001b[0m end \u001b[38;5;241m=\u001b[39m _w(s, end)\u001b[38;5;241m.\u001b[39mend()\n\u001b[1;32m    339\u001b[0m \u001b[38;5;28;01mif\u001b[39;00m end \u001b[38;5;241m!=\u001b[39m \u001b[38;5;28mlen\u001b[39m(s):\n\u001b[0;32m--> 340\u001b[0m     \u001b[38;5;28;01mraise\u001b[39;00m JSONDecodeError(\u001b[38;5;124m\"\u001b[39m\u001b[38;5;124mExtra data\u001b[39m\u001b[38;5;124m\"\u001b[39m, s, end)\n\u001b[1;32m    341\u001b[0m \u001b[38;5;28;01mreturn\u001b[39;00m obj\n",
      "\u001b[0;31mJSONDecodeError\u001b[0m: Extra data: line 2 column 1 (char 445)"
     ]
    }
   ],
   "source": [
    "json.loads(s=contenu)"
   ]
  },
  {
   "cell_type": "code",
   "execution_count": 7,
   "id": "183dcd0d-95ae-449a-bed3-8a7eb7b2a144",
   "metadata": {},
   "outputs": [
    {
     "name": "stdout",
     "output_type": "stream",
     "text": [
      "{\"id\": \"annonce-138905473-376235\", \"genre\": \"Appartement\", \"prix\": \"374 400 \\u20ac\", \"pcs\": \"3 p 2 ch 90 m\\u00b2\", \"desc\": \"Appartement type 3 - TOURS CATH\\u00c9DRALE TOURS CATH\\u00c9DRALE: Ravissant appartement type 3 d'environ 90 m\\u00b2 dans r\\u00e9sidence de standing (~50 lots) avec cave et parking. Entr\\u00e9e,...\\n\\u00c7a m'int\\u00e9resse\", \"lien\": \"https://www.seloger.com/annonces/achat/appartement/tours-37/cathedrale/138905473.htm\"}\n",
      "{\"id\": \"annonce-140620177-376235\", \"genre\": \"Appartement\", \"prix\": \"499 200 \\u20ac\", \"pcs\": \"5 p 4 ch 146,27 m\\u00b2\", \"desc\": \"TOURS HYPERCENTRE - Appartement TOURS HYPERCENTRE: Superbe appartement de 146,37 m\\u00b2 (LOI CARREZ) dans un immeuble de caract\\u00e8re avec ascenseur. Entr\\u00e9e, s\\u00e9jour SUD, vaste...\\n\\u00c7a m'int\\u00e9resse\", \"lien\": \"https://www.seloger.com/annonces/achat/appartement/tours-37/centre/140620177.htm\"}\n",
      "{\"id\": \"annonce-140620179-376235\", \"genre\": \"Appartement\", \"prix\": \"499 200 \\u20ac\", \"pcs\": \"5 p 3 ch 110 m\\u00b2\",\n"
     ]
    }
   ],
   "source": [
    "print(contenu[:1000])"
   ]
  },
  {
   "cell_type": "code",
   "execution_count": 8,
   "id": "91693b08-464f-4b8d-ab8e-70c8d2285fc9",
   "metadata": {},
   "outputs": [
    {
     "data": {
      "text/plain": [
       "'{\"id\": \"annonce-138905473-376235\", \"genre\": \"Appartement\", \"prix\": \"374 400 \\\\u20ac\", \"pcs\": \"3 p 2 ch 90 m\\\\u00b2\", \"desc\": \"Appartement type 3 - TOURS CATH\\\\u00c9DRALE TOURS CATH\\\\u00c9DRALE: Ravissant appartement type 3 d\\'environ 90 m\\\\u00b2 dans r\\\\u00e9sidence de standing (~50 lots) avec cave et parking. Entr\\\\u00e9e,...\\\\n\\\\u00c7a m\\'int\\\\u00e9resse\", \"lien\": \"https://www.seloger.com/annonces/achat/appartement/tours-37/cathedrale/138905473.htm\"}\\n{\"id\": \"annonce-140620177-376235\", \"genre\": \"Appartement\", \"prix\": \"499 200 \\\\u20ac\", \"pcs\": \"5 p 4 ch 146,27 m\\\\u00b2\", \"desc\": \"TOURS HYPERCENTRE - Appartement TOURS HYPERCENTRE: Superbe appartement de 146,37 m\\\\u00b2 (LOI CARREZ) dans un immeuble de caract\\\\u00e8re avec ascenseur. Entr\\\\u00e9e, s\\\\u00e9jour SUD, vaste...\\\\n\\\\u00c7a m\\'int\\\\u00e9resse\", \"lien\": \"https://www.seloger.com/annonces/achat/appartement/tours-37/centre/140620177.htm\"}\\n{\"id\": \"annonce-140620179-376235\", \"genre\": \"Appartement\", \"prix\": \"499 200 \\\\u20ac\", \"pcs\": \"5 p 3 ch 110 m\\\\u00b2\",'"
      ]
     },
     "execution_count": 8,
     "metadata": {},
     "output_type": "execute_result"
    }
   ],
   "source": [
    "contenu[:1000]"
   ]
  },
  {
   "cell_type": "markdown",
   "id": "80a6ae6e-86a8-49da-8b3a-09f7d3001b31",
   "metadata": {},
   "source": [
    "**REMARQUE** on voit que le json est mal formé. \n",
    "On a une collection de dictionnaires séparés par des `\\n`.\n",
    "\n",
    "Il faut transformer cela en json valide, ou le charger autrement."
   ]
  },
  {
   "cell_type": "code",
   "execution_count": 9,
   "id": "03fdf940-3290-42d5-8a95-770a23fe1ea7",
   "metadata": {},
   "outputs": [
    {
     "ename": "JSONDecodeError",
     "evalue": "Expecting value: line 1 column 813365 (char 813364)",
     "output_type": "error",
     "traceback": [
      "\u001b[0;31m---------------------------------------------------------------------------\u001b[0m",
      "\u001b[0;31mJSONDecodeError\u001b[0m                           Traceback (most recent call last)",
      "Cell \u001b[0;32mIn[9], line 1\u001b[0m\n\u001b[0;32m----> 1\u001b[0m \u001b[43mjson\u001b[49m\u001b[38;5;241;43m.\u001b[39;49m\u001b[43mloads\u001b[49m\u001b[43m(\u001b[49m\u001b[38;5;124;43m\"\u001b[39;49m\u001b[38;5;124;43m[\u001b[39;49m\u001b[38;5;124;43m\"\u001b[39;49m\u001b[43m \u001b[49m\u001b[38;5;241;43m+\u001b[39;49m\u001b[43m \u001b[49m\u001b[43mcontenu\u001b[49m\u001b[38;5;241;43m.\u001b[39;49m\u001b[43mreplace\u001b[49m\u001b[43m(\u001b[49m\u001b[38;5;124;43m\"\u001b[39;49m\u001b[38;5;130;43;01m\\n\u001b[39;49;00m\u001b[38;5;124;43m\"\u001b[39;49m\u001b[43m,\u001b[49m\u001b[43m \u001b[49m\u001b[38;5;124;43m\"\u001b[39;49m\u001b[38;5;124;43m,\u001b[39;49m\u001b[38;5;124;43m\"\u001b[39;49m\u001b[43m)\u001b[49m\u001b[43m \u001b[49m\u001b[38;5;241;43m+\u001b[39;49m\u001b[43m \u001b[49m\u001b[38;5;124;43m\"\u001b[39;49m\u001b[38;5;124;43m]\u001b[39;49m\u001b[38;5;124;43m\"\u001b[39;49m\u001b[43m)\u001b[49m\n",
      "File \u001b[0;32m~/.pyenv/versions/3.11.0/lib/python3.11/json/__init__.py:346\u001b[0m, in \u001b[0;36mloads\u001b[0;34m(s, cls, object_hook, parse_float, parse_int, parse_constant, object_pairs_hook, **kw)\u001b[0m\n\u001b[1;32m    341\u001b[0m     s \u001b[38;5;241m=\u001b[39m s\u001b[38;5;241m.\u001b[39mdecode(detect_encoding(s), \u001b[38;5;124m'\u001b[39m\u001b[38;5;124msurrogatepass\u001b[39m\u001b[38;5;124m'\u001b[39m)\n\u001b[1;32m    343\u001b[0m \u001b[38;5;28;01mif\u001b[39;00m (\u001b[38;5;28mcls\u001b[39m \u001b[38;5;129;01mis\u001b[39;00m \u001b[38;5;28;01mNone\u001b[39;00m \u001b[38;5;129;01mand\u001b[39;00m object_hook \u001b[38;5;129;01mis\u001b[39;00m \u001b[38;5;28;01mNone\u001b[39;00m \u001b[38;5;129;01mand\u001b[39;00m\n\u001b[1;32m    344\u001b[0m         parse_int \u001b[38;5;129;01mis\u001b[39;00m \u001b[38;5;28;01mNone\u001b[39;00m \u001b[38;5;129;01mand\u001b[39;00m parse_float \u001b[38;5;129;01mis\u001b[39;00m \u001b[38;5;28;01mNone\u001b[39;00m \u001b[38;5;129;01mand\u001b[39;00m\n\u001b[1;32m    345\u001b[0m         parse_constant \u001b[38;5;129;01mis\u001b[39;00m \u001b[38;5;28;01mNone\u001b[39;00m \u001b[38;5;129;01mand\u001b[39;00m object_pairs_hook \u001b[38;5;129;01mis\u001b[39;00m \u001b[38;5;28;01mNone\u001b[39;00m \u001b[38;5;129;01mand\u001b[39;00m \u001b[38;5;129;01mnot\u001b[39;00m kw):\n\u001b[0;32m--> 346\u001b[0m     \u001b[38;5;28;01mreturn\u001b[39;00m \u001b[43m_default_decoder\u001b[49m\u001b[38;5;241;43m.\u001b[39;49m\u001b[43mdecode\u001b[49m\u001b[43m(\u001b[49m\u001b[43ms\u001b[49m\u001b[43m)\u001b[49m\n\u001b[1;32m    347\u001b[0m \u001b[38;5;28;01mif\u001b[39;00m \u001b[38;5;28mcls\u001b[39m \u001b[38;5;129;01mis\u001b[39;00m \u001b[38;5;28;01mNone\u001b[39;00m:\n\u001b[1;32m    348\u001b[0m     \u001b[38;5;28mcls\u001b[39m \u001b[38;5;241m=\u001b[39m JSONDecoder\n",
      "File \u001b[0;32m~/.pyenv/versions/3.11.0/lib/python3.11/json/decoder.py:337\u001b[0m, in \u001b[0;36mJSONDecoder.decode\u001b[0;34m(self, s, _w)\u001b[0m\n\u001b[1;32m    332\u001b[0m \u001b[38;5;28;01mdef\u001b[39;00m \u001b[38;5;21mdecode\u001b[39m(\u001b[38;5;28mself\u001b[39m, s, _w\u001b[38;5;241m=\u001b[39mWHITESPACE\u001b[38;5;241m.\u001b[39mmatch):\n\u001b[1;32m    333\u001b[0m \u001b[38;5;250m    \u001b[39m\u001b[38;5;124;03m\"\"\"Return the Python representation of ``s`` (a ``str`` instance\u001b[39;00m\n\u001b[1;32m    334\u001b[0m \u001b[38;5;124;03m    containing a JSON document).\u001b[39;00m\n\u001b[1;32m    335\u001b[0m \n\u001b[1;32m    336\u001b[0m \u001b[38;5;124;03m    \"\"\"\u001b[39;00m\n\u001b[0;32m--> 337\u001b[0m     obj, end \u001b[38;5;241m=\u001b[39m \u001b[38;5;28;43mself\u001b[39;49m\u001b[38;5;241;43m.\u001b[39;49m\u001b[43mraw_decode\u001b[49m\u001b[43m(\u001b[49m\u001b[43ms\u001b[49m\u001b[43m,\u001b[49m\u001b[43m \u001b[49m\u001b[43midx\u001b[49m\u001b[38;5;241;43m=\u001b[39;49m\u001b[43m_w\u001b[49m\u001b[43m(\u001b[49m\u001b[43ms\u001b[49m\u001b[43m,\u001b[49m\u001b[43m \u001b[49m\u001b[38;5;241;43m0\u001b[39;49m\u001b[43m)\u001b[49m\u001b[38;5;241;43m.\u001b[39;49m\u001b[43mend\u001b[49m\u001b[43m(\u001b[49m\u001b[43m)\u001b[49m\u001b[43m)\u001b[49m\n\u001b[1;32m    338\u001b[0m     end \u001b[38;5;241m=\u001b[39m _w(s, end)\u001b[38;5;241m.\u001b[39mend()\n\u001b[1;32m    339\u001b[0m     \u001b[38;5;28;01mif\u001b[39;00m end \u001b[38;5;241m!=\u001b[39m \u001b[38;5;28mlen\u001b[39m(s):\n",
      "File \u001b[0;32m~/.pyenv/versions/3.11.0/lib/python3.11/json/decoder.py:355\u001b[0m, in \u001b[0;36mJSONDecoder.raw_decode\u001b[0;34m(self, s, idx)\u001b[0m\n\u001b[1;32m    353\u001b[0m     obj, end \u001b[38;5;241m=\u001b[39m \u001b[38;5;28mself\u001b[39m\u001b[38;5;241m.\u001b[39mscan_once(s, idx)\n\u001b[1;32m    354\u001b[0m \u001b[38;5;28;01mexcept\u001b[39;00m \u001b[38;5;167;01mStopIteration\u001b[39;00m \u001b[38;5;28;01mas\u001b[39;00m err:\n\u001b[0;32m--> 355\u001b[0m     \u001b[38;5;28;01mraise\u001b[39;00m JSONDecodeError(\u001b[38;5;124m\"\u001b[39m\u001b[38;5;124mExpecting value\u001b[39m\u001b[38;5;124m\"\u001b[39m, s, err\u001b[38;5;241m.\u001b[39mvalue) \u001b[38;5;28;01mfrom\u001b[39;00m \u001b[38;5;28;01mNone\u001b[39;00m\n\u001b[1;32m    356\u001b[0m \u001b[38;5;28;01mreturn\u001b[39;00m obj, end\n",
      "\u001b[0;31mJSONDecodeError\u001b[0m: Expecting value: line 1 column 813365 (char 813364)"
     ]
    }
   ],
   "source": [
    "json.loads(\"[\" + contenu.replace(\"\\n\", \",\") + \"]\")"
   ]
  },
  {
   "cell_type": "code",
   "execution_count": 10,
   "id": "e2fd1301-0fdd-418c-9449-3c9016a5f65f",
   "metadata": {},
   "outputs": [
    {
     "data": {
      "text/plain": [
       "'es avec jardin ou appartements du 2 au 3 pi\\\\u00e8ces: faites votre choix - Exceptionnel: une cuisine Blanchet d\\'Huismes am\\\\u00e9nag\\\\u00e9e et install\\\\u00e9e dans...\\\\n\\\\u00c7a m\\'int\\\\u00e9resse\", \"lien\": \"https://www.selogerneuf.com/annonces/achat/maison/tours-37/138636083/#?cmp=INTSL_ListToDetail\"}\\n{\"id\": \"annonce-137873909-139524\", \"genre\": \"Boutique\", \"prix\": \"195 000 \\\\u20ac\", \"pcs\": \"173 m\\\\u00b2\", \"desc\": \"Place Saint \\\\u00c9loi, Local commercial de 173m\\\\u00b2 avec acc\\\\u00e8s PMR. Il comprend des espaces bureaux en rez-de-chauss\\\\u00e9e de 92m\\\\u00b2 environ et 79m\\\\u00b2 \\\\u00e0 l\\'\\\\u00e9tage. Belle fa\\\\u00e7ade.\\\\n\\\\u00c7a m\\'int\\\\u00e9resse\", \"lien\": \"https://www.seloger.com/annonces/achat/boutique/tours-37/137873909.htm\"}\\n{\"id\": \"annonce-136457803-733454\", \"genre\": \"Parking\", \"prix\": \"15 000 \\\\u20ac\", \"pcs\": \"13 m\\\\u00b2\", \"desc\": \"GRAMMONT.PLACE DE LA LIBERT\\\\u00c9. Garage en sous-sol.\\\\n\\\\u00c7a m\\'int\\\\u00e9resse\", \"lien\": \"https://www.seloger.com/annonces/achat/parking/tours-37/136457803.htm\"}\\n'"
      ]
     },
     "execution_count": 10,
     "metadata": {},
     "output_type": "execute_result"
    }
   ],
   "source": [
    "contenu[-1000:]"
   ]
  },
  {
   "cell_type": "code",
   "execution_count": 11,
   "id": "850741dd-fe32-4cd8-a203-d1c0e6ccec0f",
   "metadata": {},
   "outputs": [],
   "source": [
    "data = json.loads(\"[\" + contenu.replace(\"\\n\", \",\")[:-1] + \"]\")"
   ]
  },
  {
   "cell_type": "code",
   "execution_count": 12,
   "id": "c820a15f-cfad-4cfe-b81d-eaab94336ccb",
   "metadata": {},
   "outputs": [],
   "source": [
    "# alternativement\n",
    "data = [json.loads(ligne) for ligne in contenu.splitlines()]"
   ]
  },
  {
   "cell_type": "markdown",
   "id": "2751a234-151c-4b3d-893d-de6707fa8f03",
   "metadata": {},
   "source": [
    "**REMARQUE** on peut constater aussi qu'il y a eu une tentative pour protéger les `\\` en les doublant ce qui conduit à ne pas visualiser proprement certains caractères unicode."
   ]
  },
  {
   "cell_type": "code",
   "execution_count": 13,
   "id": "e67c6a33-a87d-4929-b6af-c80d9145fb2d",
   "metadata": {},
   "outputs": [
    {
     "name": "stdout",
     "output_type": "stream",
     "text": [
      "\\u20ac\n"
     ]
    }
   ],
   "source": [
    "print(\"\\\\u20ac\")"
   ]
  },
  {
   "cell_type": "code",
   "execution_count": 14,
   "id": "d08950f3-338e-41a6-a0ca-3c04b2eb653b",
   "metadata": {},
   "outputs": [
    {
     "name": "stdout",
     "output_type": "stream",
     "text": [
      "€\n"
     ]
    }
   ],
   "source": [
    "print(\"\\u20ac\")"
   ]
  },
  {
   "cell_type": "code",
   "execution_count": 15,
   "id": "9c17c19e-a25b-4a7f-8019-a846ceb67179",
   "metadata": {},
   "outputs": [
    {
     "name": "stdout",
     "output_type": "stream",
     "text": [
      "Appartement type 3 - TOURS CATHÉDRALE TOURS CATHÉDRALE: Ravissant appartement type 3 d'environ 90 m² dans résidence de standing (~50 lots) avec cave et parking. Entrée,...\n",
      "Ça m'intéresse\n"
     ]
    }
   ],
   "source": [
    "print(data[0][\"desc\"])"
   ]
  },
  {
   "cell_type": "markdown",
   "id": "c7bf25c6-0ec6-4cc6-ac35-807d879b5e9f",
   "metadata": {},
   "source": [
    "**CONCLUSION** en fait `\\\\` était justement ce qu'il fallait faire pour ne pas avoir de problème une fois le json parsé.Il s'agit de bien faire la différence entre la représentation via `str` et via `repr`."
   ]
  },
  {
   "cell_type": "code",
   "execution_count": 16,
   "id": "92552e3c-35eb-4c48-8842-cd8667bf79bc",
   "metadata": {},
   "outputs": [
    {
     "data": {
      "text/plain": [
       "'\\\\u20ac'"
      ]
     },
     "execution_count": 16,
     "metadata": {},
     "output_type": "execute_result"
    }
   ],
   "source": [
    "r\"\\u20ac\""
   ]
  },
  {
   "cell_type": "code",
   "execution_count": 17,
   "id": "304e8447-2d6f-4cd4-877b-0291946973e8",
   "metadata": {},
   "outputs": [
    {
     "data": {
      "text/plain": [
       "'€'"
      ]
     },
     "execution_count": 17,
     "metadata": {},
     "output_type": "execute_result"
    }
   ],
   "source": [
    "\"\\u20ac\""
   ]
  },
  {
   "cell_type": "markdown",
   "id": "1d02d5f7-b8ae-4b9e-a368-411d064a62eb",
   "metadata": {},
   "source": [
    "## Exercice\n",
    "\n",
    "Charger le json dans un dataframe."
   ]
  },
  {
   "cell_type": "code",
   "execution_count": 18,
   "id": "123fc4c5-64e2-45c1-9fad-cfb698ddddd7",
   "metadata": {},
   "outputs": [
    {
     "data": {
      "text/plain": [
       "['id', 'genre', 'prix', 'pcs', 'desc', 'lien']"
      ]
     },
     "execution_count": 18,
     "metadata": {},
     "output_type": "execute_result"
    }
   ],
   "source": [
    "list(data[0].keys())"
   ]
  },
  {
   "cell_type": "code",
   "execution_count": 19,
   "id": "0977fe6b-ea4e-4d82-8129-e51e1cf1eb26",
   "metadata": {},
   "outputs": [],
   "source": [
    "import pandas as pd"
   ]
  },
  {
   "cell_type": "code",
   "execution_count": 20,
   "id": "b60428e0-1d8f-48b2-ad26-426064b0756f",
   "metadata": {},
   "outputs": [],
   "source": [
    "df = pd.DataFrame(data=data)"
   ]
  },
  {
   "cell_type": "code",
   "execution_count": 21,
   "id": "c4d73e46-e0b1-4e0e-ace6-2170bbde2387",
   "metadata": {},
   "outputs": [
    {
     "data": {
      "text/plain": [
       "Index(['id', 'genre', 'prix', 'pcs', 'desc', 'lien'], dtype='object')"
      ]
     },
     "execution_count": 21,
     "metadata": {},
     "output_type": "execute_result"
    }
   ],
   "source": [
    "df.columns"
   ]
  },
  {
   "cell_type": "code",
   "execution_count": 22,
   "id": "5d618ff3-e8e8-4f19-b5cd-53d63032a775",
   "metadata": {},
   "outputs": [
    {
     "data": {
      "text/html": [
       "<div>\n",
       "<style scoped>\n",
       "    .dataframe tbody tr th:only-of-type {\n",
       "        vertical-align: middle;\n",
       "    }\n",
       "\n",
       "    .dataframe tbody tr th {\n",
       "        vertical-align: top;\n",
       "    }\n",
       "\n",
       "    .dataframe thead th {\n",
       "        text-align: right;\n",
       "    }\n",
       "</style>\n",
       "<table border=\"1\" class=\"dataframe\">\n",
       "  <thead>\n",
       "    <tr style=\"text-align: right;\">\n",
       "      <th></th>\n",
       "      <th>id</th>\n",
       "      <th>genre</th>\n",
       "      <th>prix</th>\n",
       "      <th>pcs</th>\n",
       "      <th>desc</th>\n",
       "      <th>lien</th>\n",
       "    </tr>\n",
       "  </thead>\n",
       "  <tbody>\n",
       "    <tr>\n",
       "      <th>0</th>\n",
       "      <td>annonce-138905473-376235</td>\n",
       "      <td>Appartement</td>\n",
       "      <td>374 400 €</td>\n",
       "      <td>3 p 2 ch 90 m²</td>\n",
       "      <td>Appartement type 3 - TOURS CATHÉDRALE TOURS CA...</td>\n",
       "      <td>https://www.seloger.com/annonces/achat/apparte...</td>\n",
       "    </tr>\n",
       "    <tr>\n",
       "      <th>1</th>\n",
       "      <td>annonce-140620177-376235</td>\n",
       "      <td>Appartement</td>\n",
       "      <td>499 200 €</td>\n",
       "      <td>5 p 4 ch 146,27 m²</td>\n",
       "      <td>TOURS HYPERCENTRE - Appartement TOURS HYPERCEN...</td>\n",
       "      <td>https://www.seloger.com/annonces/achat/apparte...</td>\n",
       "    </tr>\n",
       "    <tr>\n",
       "      <th>2</th>\n",
       "      <td>annonce-140620179-376235</td>\n",
       "      <td>Appartement</td>\n",
       "      <td>499 200 €</td>\n",
       "      <td>5 p 3 ch 110 m²</td>\n",
       "      <td>TOURS PRÉBENDES NORD - APPARTEMENT TOURS PRÉBE...</td>\n",
       "      <td>https://www.seloger.com/annonces/achat/apparte...</td>\n",
       "    </tr>\n",
       "    <tr>\n",
       "      <th>3</th>\n",
       "      <td>annonce-133494153-376235</td>\n",
       "      <td>Maison / Villa</td>\n",
       "      <td>508 000 €</td>\n",
       "      <td>6 p 4 ch 132 m²</td>\n",
       "      <td>TOURS PRÉBENDES - PARTICULIER TOURANGEAUX TOUR...</td>\n",
       "      <td>https://www.seloger.com/annonces/achat/maison/...</td>\n",
       "    </tr>\n",
       "    <tr>\n",
       "      <th>4</th>\n",
       "      <td>annonce-137425993-376235</td>\n",
       "      <td>Maison / Villa</td>\n",
       "      <td>676 000 €</td>\n",
       "      <td>7 p 5 ch 185 m²</td>\n",
       "      <td>TOURS STRASBOURG / RABELAIS - Maison TOURS STR...</td>\n",
       "      <td>https://www.seloger.com/annonces/achat-de-pres...</td>\n",
       "    </tr>\n",
       "    <tr>\n",
       "      <th>...</th>\n",
       "      <td>...</td>\n",
       "      <td>...</td>\n",
       "      <td>...</td>\n",
       "      <td>...</td>\n",
       "      <td>...</td>\n",
       "      <td>...</td>\n",
       "    </tr>\n",
       "    <tr>\n",
       "      <th>1813</th>\n",
       "      <td>annonce-141342739-388776</td>\n",
       "      <td>Appartement</td>\n",
       "      <td>108 500 €</td>\n",
       "      <td>3 p 2 ch 76 m²</td>\n",
       "      <td>TOURS - Appartement de Type 3 comprenant séjou...</td>\n",
       "      <td>https://www.seloger.com/annonces/achat/apparte...</td>\n",
       "    </tr>\n",
       "    <tr>\n",
       "      <th>1814</th>\n",
       "      <td>annonce-137994967-30034771</td>\n",
       "      <td>Maison / Villa neuve</td>\n",
       "      <td>320 000 €</td>\n",
       "      <td>4 p 84,4 m²</td>\n",
       "      <td>Maisons de ville 3 chambres avec jardin ou app...</td>\n",
       "      <td>https://www.selogerneuf.com/annonces/achat/mai...</td>\n",
       "    </tr>\n",
       "    <tr>\n",
       "      <th>1815</th>\n",
       "      <td>annonce-138636083-30034771</td>\n",
       "      <td>Maison / Villa neuve</td>\n",
       "      <td>320 000 €</td>\n",
       "      <td>4 p 84,4 m²</td>\n",
       "      <td>Maisons de ville 3 chambres avec jardin ou app...</td>\n",
       "      <td>https://www.selogerneuf.com/annonces/achat/mai...</td>\n",
       "    </tr>\n",
       "    <tr>\n",
       "      <th>1816</th>\n",
       "      <td>annonce-137873909-139524</td>\n",
       "      <td>Boutique</td>\n",
       "      <td>195 000 €</td>\n",
       "      <td>173 m²</td>\n",
       "      <td>Place Saint Éloi, Local commercial de 173m² av...</td>\n",
       "      <td>https://www.seloger.com/annonces/achat/boutiqu...</td>\n",
       "    </tr>\n",
       "    <tr>\n",
       "      <th>1817</th>\n",
       "      <td>annonce-136457803-733454</td>\n",
       "      <td>Parking</td>\n",
       "      <td>15 000 €</td>\n",
       "      <td>13 m²</td>\n",
       "      <td>GRAMMONT.PLACE DE LA LIBERTÉ. Garage en sous-s...</td>\n",
       "      <td>https://www.seloger.com/annonces/achat/parking...</td>\n",
       "    </tr>\n",
       "  </tbody>\n",
       "</table>\n",
       "<p>1818 rows × 6 columns</p>\n",
       "</div>"
      ],
      "text/plain": [
       "                              id                 genre       prix  \\\n",
       "0       annonce-138905473-376235           Appartement  374 400 €   \n",
       "1       annonce-140620177-376235           Appartement  499 200 €   \n",
       "2       annonce-140620179-376235           Appartement  499 200 €   \n",
       "3       annonce-133494153-376235        Maison / Villa  508 000 €   \n",
       "4       annonce-137425993-376235        Maison / Villa  676 000 €   \n",
       "...                          ...                   ...        ...   \n",
       "1813    annonce-141342739-388776           Appartement  108 500 €   \n",
       "1814  annonce-137994967-30034771  Maison / Villa neuve  320 000 €   \n",
       "1815  annonce-138636083-30034771  Maison / Villa neuve  320 000 €   \n",
       "1816    annonce-137873909-139524              Boutique  195 000 €   \n",
       "1817    annonce-136457803-733454               Parking   15 000 €   \n",
       "\n",
       "                     pcs                                               desc  \\\n",
       "0         3 p 2 ch 90 m²  Appartement type 3 - TOURS CATHÉDRALE TOURS CA...   \n",
       "1     5 p 4 ch 146,27 m²  TOURS HYPERCENTRE - Appartement TOURS HYPERCEN...   \n",
       "2        5 p 3 ch 110 m²  TOURS PRÉBENDES NORD - APPARTEMENT TOURS PRÉBE...   \n",
       "3        6 p 4 ch 132 m²  TOURS PRÉBENDES - PARTICULIER TOURANGEAUX TOUR...   \n",
       "4        7 p 5 ch 185 m²  TOURS STRASBOURG / RABELAIS - Maison TOURS STR...   \n",
       "...                  ...                                                ...   \n",
       "1813      3 p 2 ch 76 m²  TOURS - Appartement de Type 3 comprenant séjou...   \n",
       "1814         4 p 84,4 m²  Maisons de ville 3 chambres avec jardin ou app...   \n",
       "1815         4 p 84,4 m²  Maisons de ville 3 chambres avec jardin ou app...   \n",
       "1816              173 m²  Place Saint Éloi, Local commercial de 173m² av...   \n",
       "1817               13 m²  GRAMMONT.PLACE DE LA LIBERTÉ. Garage en sous-s...   \n",
       "\n",
       "                                                   lien  \n",
       "0     https://www.seloger.com/annonces/achat/apparte...  \n",
       "1     https://www.seloger.com/annonces/achat/apparte...  \n",
       "2     https://www.seloger.com/annonces/achat/apparte...  \n",
       "3     https://www.seloger.com/annonces/achat/maison/...  \n",
       "4     https://www.seloger.com/annonces/achat-de-pres...  \n",
       "...                                                 ...  \n",
       "1813  https://www.seloger.com/annonces/achat/apparte...  \n",
       "1814  https://www.selogerneuf.com/annonces/achat/mai...  \n",
       "1815  https://www.selogerneuf.com/annonces/achat/mai...  \n",
       "1816  https://www.seloger.com/annonces/achat/boutiqu...  \n",
       "1817  https://www.seloger.com/annonces/achat/parking...  \n",
       "\n",
       "[1818 rows x 6 columns]"
      ]
     },
     "execution_count": 22,
     "metadata": {},
     "output_type": "execute_result"
    }
   ],
   "source": [
    "df"
   ]
  },
  {
   "cell_type": "markdown",
   "id": "443284f9-99c2-4990-93a6-3c7ba079d9f1",
   "metadata": {
    "tags": []
   },
   "source": [
    "# Exercice\n",
    "\n",
    "1. Exploiter la première colonne: `id`.\n",
    "2. Exploiter la deuxième colonne: `genre`.\n",
    "3. Exploiter la troisième colonne: `prix`.\n",
    "4. Exploiter la quatrième colonne: `pcs`. "
   ]
  },
  {
   "cell_type": "markdown",
   "id": "a8b24ad1-5eba-43bc-8739-c1e6183ac25a",
   "metadata": {},
   "source": [
    "## Gestion `id`"
   ]
  },
  {
   "cell_type": "code",
   "execution_count": 23,
   "id": "234b627d-13ef-4c0f-8dc2-c1e6afea222b",
   "metadata": {},
   "outputs": [
    {
     "data": {
      "text/plain": [
       "(1818, 6)"
      ]
     },
     "execution_count": 23,
     "metadata": {},
     "output_type": "execute_result"
    }
   ],
   "source": [
    "df.shape"
   ]
  },
  {
   "cell_type": "code",
   "execution_count": 24,
   "id": "2d0950e7-c3ff-4aff-a13b-6f072f4510f5",
   "metadata": {},
   "outputs": [
    {
     "data": {
      "text/plain": [
       "(1798, 6)"
      ]
     },
     "execution_count": 24,
     "metadata": {},
     "output_type": "execute_result"
    }
   ],
   "source": [
    "df.drop_duplicates(subset=\"id\", inplace=True)\n",
    "df.shape"
   ]
  },
  {
   "cell_type": "code",
   "execution_count": 25,
   "id": "593bb6fe-1932-494a-9c3c-edc57c1a6f0b",
   "metadata": {},
   "outputs": [
    {
     "data": {
      "text/plain": [
       "Index(['genre', 'prix', 'pcs', 'desc', 'lien'], dtype='object')"
      ]
     },
     "execution_count": 25,
     "metadata": {},
     "output_type": "execute_result"
    }
   ],
   "source": [
    "df.drop(columns=\"id\", inplace=True)\n",
    "df.columns"
   ]
  },
  {
   "cell_type": "markdown",
   "id": "2b9ce3db-1b1d-43f0-a42e-5571c8eb6cdc",
   "metadata": {},
   "source": [
    "## Gestion `genre`"
   ]
  },
  {
   "cell_type": "code",
   "execution_count": 26,
   "id": "46e9468b-9a39-4214-b9c9-64fb5ea4ea53",
   "metadata": {},
   "outputs": [
    {
     "data": {
      "text/plain": [
       "0                Appartement\n",
       "1                Appartement\n",
       "2                Appartement\n",
       "3             Maison / Villa\n",
       "4             Maison / Villa\n",
       "                ...         \n",
       "1813             Appartement\n",
       "1814    Maison / Villa neuve\n",
       "1815    Maison / Villa neuve\n",
       "1816                Boutique\n",
       "1817                 Parking\n",
       "Name: genre, Length: 1798, dtype: object"
      ]
     },
     "execution_count": 26,
     "metadata": {},
     "output_type": "execute_result"
    }
   ],
   "source": [
    "df[\"genre\"]"
   ]
  },
  {
   "cell_type": "markdown",
   "id": "22641d5b-5f8d-4d7f-8ebe-627a92cd6c9f",
   "metadata": {},
   "source": [
    "**REMARQUE** on a l'impression d'avoir à faire à des catégories, on va donc regarder toutes les possibilités."
   ]
  },
  {
   "cell_type": "code",
   "execution_count": 27,
   "id": "b75514d1-aae8-42f0-b592-ad2390f31026",
   "metadata": {},
   "outputs": [
    {
     "data": {
      "text/plain": [
       "array(['Appartement', 'Maison / Villa', 'Appartement neuf',\n",
       "       'Projet de construction', 'Maison / Villa neuve', 'Bâtiment',\n",
       "       'Parking', 'Bureau', 'Local commercial', 'Immeuble', 'Boutique',\n",
       "       'Terrain', 'Divers', 'Loft/Atelier/Surface', 'Château',\n",
       "       'Hôtel particulier'], dtype=object)"
      ]
     },
     "execution_count": 27,
     "metadata": {},
     "output_type": "execute_result"
    }
   ],
   "source": [
    "df[\"genre\"].unique()"
   ]
  },
  {
   "cell_type": "markdown",
   "id": "8c479d01-c192-45aa-83a0-49371bd934af",
   "metadata": {},
   "source": [
    "**REMARQUE** On ne veut conserver que \n",
    "- 'Appartement'\n",
    "- 'Appartement neuf'\n",
    "- 'Maison / Villa'\n",
    "- 'Maison / Villa neuve'"
   ]
  },
  {
   "cell_type": "code",
   "execution_count": 28,
   "id": "a1840ec1-8fe3-4e37-9807-a856b01a1a7d",
   "metadata": {},
   "outputs": [
    {
     "ename": "TypeError",
     "evalue": "unhashable type: 'Series'",
     "output_type": "error",
     "traceback": [
      "\u001b[0;31m---------------------------------------------------------------------------\u001b[0m",
      "\u001b[0;31mTypeError\u001b[0m                                 Traceback (most recent call last)",
      "Cell \u001b[0;32mIn[28], line 3\u001b[0m\n\u001b[1;32m      1\u001b[0m GENRES_VALIDES \u001b[38;5;241m=\u001b[39m {\u001b[38;5;124m'\u001b[39m\u001b[38;5;124mAppartement\u001b[39m\u001b[38;5;124m'\u001b[39m, \u001b[38;5;124m'\u001b[39m\u001b[38;5;124mAppartement neuf\u001b[39m\u001b[38;5;124m'\u001b[39m, \u001b[38;5;124m'\u001b[39m\u001b[38;5;124mMaison / Villa\u001b[39m\u001b[38;5;124m'\u001b[39m, \u001b[38;5;124m'\u001b[39m\u001b[38;5;124mMaison / Villa neuve\u001b[39m\u001b[38;5;124m'\u001b[39m}\n\u001b[0;32m----> 3\u001b[0m \u001b[43mdf\u001b[49m\u001b[43m[\u001b[49m\u001b[38;5;124;43m\"\u001b[39;49m\u001b[38;5;124;43mgenre\u001b[39;49m\u001b[38;5;124;43m\"\u001b[39;49m\u001b[43m]\u001b[49m\u001b[43m \u001b[49m\u001b[38;5;129;43;01min\u001b[39;49;00m\u001b[43m \u001b[49m\u001b[43mGENRES_VALIDES\u001b[49m\n",
      "\u001b[0;31mTypeError\u001b[0m: unhashable type: 'Series'"
     ]
    }
   ],
   "source": [
    "GENRES_VALIDES = {'Appartement', 'Appartement neuf', 'Maison / Villa', 'Maison / Villa neuve'}\n",
    "\n",
    "df[\"genre\"] in GENRES_VALIDES"
   ]
  },
  {
   "cell_type": "code",
   "execution_count": 29,
   "id": "582b8ac9-0425-4180-8fbe-cdbd80d9f776",
   "metadata": {},
   "outputs": [],
   "source": [
    "# on ne peut pas vectoriser l'opérateur python in\n",
    "# il faut chercher une méthode pandas spécifique\n",
    "# REPARER pour l'affectation sans slice\n",
    "df.drop(df[~df[\"genre\"].isin(GENRES_VALIDES)].index, inplace=True)"
   ]
  },
  {
   "cell_type": "code",
   "execution_count": 30,
   "id": "6bf3a04b-fd54-4673-874a-b879f85c277e",
   "metadata": {},
   "outputs": [
    {
     "data": {
      "text/plain": [
       "array(['Appartement', 'Maison / Villa', 'Appartement neuf',\n",
       "       'Maison / Villa neuve'], dtype=object)"
      ]
     },
     "execution_count": 30,
     "metadata": {},
     "output_type": "execute_result"
    }
   ],
   "source": [
    "df[\"genre\"].unique()"
   ]
  },
  {
   "cell_type": "code",
   "execution_count": 32,
   "id": "63868597-226d-4f6e-9732-aab961b45ebb",
   "metadata": {},
   "outputs": [],
   "source": [
    "df.reset_index(inplace=True, drop=True)"
   ]
  },
  {
   "cell_type": "markdown",
   "id": "23a5abb1-3be2-40f6-9bae-231eb90c1201",
   "metadata": {},
   "source": [
    "**REMARQUE** il y a en fait deux variables explicatives dans cette colonne: \n",
    "1. neuf ou ancien\n",
    "2. appartement ou maison"
   ]
  },
  {
   "cell_type": "code",
   "execution_count": 33,
   "id": "550094c3-9bc1-4e2b-a13e-bcea7e757b19",
   "metadata": {},
   "outputs": [],
   "source": [
    "NEUF = {'Appartement neuf', 'Maison / Villa neuve'}\n",
    "MAISON =  {'Maison / Villa', 'Maison / Villa neuve'}"
   ]
  },
  {
   "cell_type": "code",
   "execution_count": 34,
   "id": "79f82742-a3b7-4b70-86ce-574e341fcc1c",
   "metadata": {},
   "outputs": [
    {
     "data": {
      "text/plain": [
       "Index(['genre', 'prix', 'pcs', 'desc', 'lien', 'neuf', 'maison'], dtype='object')"
      ]
     },
     "execution_count": 34,
     "metadata": {},
     "output_type": "execute_result"
    }
   ],
   "source": [
    "df[\"neuf\"] = df[\"genre\"].isin(NEUF)\n",
    "df[\"maison\"] = df[\"genre\"].isin(MAISON)\n",
    "df.columns"
   ]
  },
  {
   "cell_type": "code",
   "execution_count": 35,
   "id": "a7c34756-8321-4b1e-9e61-7a7f8e659cff",
   "metadata": {},
   "outputs": [
    {
     "data": {
      "text/plain": [
       "Index(['prix', 'pcs', 'desc', 'lien', 'neuf', 'maison'], dtype='object')"
      ]
     },
     "execution_count": 35,
     "metadata": {},
     "output_type": "execute_result"
    }
   ],
   "source": [
    "df.drop(columns=\"genre\", inplace=True)\n",
    "df.columns"
   ]
  },
  {
   "cell_type": "code",
   "execution_count": 36,
   "id": "a65f20b1-f43c-4495-9647-8f6f63bc6a35",
   "metadata": {},
   "outputs": [],
   "source": [
    "df.reset_index(inplace=True, drop=True)"
   ]
  },
  {
   "cell_type": "markdown",
   "id": "fc03d10c-8b5f-48e1-87b8-0b5106c10a5f",
   "metadata": {},
   "source": [
    "## Gestion de `prix`"
   ]
  },
  {
   "cell_type": "code",
   "execution_count": 37,
   "id": "142d844a-908a-464a-91c1-bf6f0651cbf5",
   "metadata": {},
   "outputs": [
    {
     "data": {
      "text/plain": [
       "prix      object\n",
       "pcs       object\n",
       "desc      object\n",
       "lien      object\n",
       "neuf        bool\n",
       "maison      bool\n",
       "dtype: object"
      ]
     },
     "execution_count": 37,
     "metadata": {},
     "output_type": "execute_result"
    }
   ],
   "source": [
    "df.dtypes"
   ]
  },
  {
   "cell_type": "code",
   "execution_count": 38,
   "id": "79ae6a91-0f16-4521-8776-37c078c276c9",
   "metadata": {},
   "outputs": [
    {
     "data": {
      "text/plain": [
       "0       374 400 €\n",
       "1       499 200 €\n",
       "2       499 200 €\n",
       "3       508 000 €\n",
       "4       676 000 €\n",
       "          ...    \n",
       "1628    254 900 €\n",
       "1629     61 500 €\n",
       "1630    108 500 €\n",
       "1631    320 000 €\n",
       "1632    320 000 €\n",
       "Name: prix, Length: 1633, dtype: object"
      ]
     },
     "execution_count": 38,
     "metadata": {},
     "output_type": "execute_result"
    }
   ],
   "source": [
    "df[\"prix\"]"
   ]
  },
  {
   "cell_type": "code",
   "execution_count": 39,
   "id": "c3460b9d-a117-4d8d-8a21-acc15acf967c",
   "metadata": {},
   "outputs": [],
   "source": [
    "df[\"prix_1\"] = df[\"prix\"].str.replace(\"€\", \"\").str.replace(\" \", \"\")"
   ]
  },
  {
   "cell_type": "code",
   "execution_count": 40,
   "id": "4cc990b8-2cf7-49c2-a781-60e234c9e934",
   "metadata": {},
   "outputs": [
    {
     "data": {
      "text/plain": [
       "0       374400\n",
       "1       499200\n",
       "2       499200\n",
       "3       508000\n",
       "4       676000\n",
       "         ...  \n",
       "1628    254900\n",
       "1629     61500\n",
       "1630    108500\n",
       "1631    320000\n",
       "1632    320000\n",
       "Name: prix_1, Length: 1633, dtype: object"
      ]
     },
     "execution_count": 40,
     "metadata": {},
     "output_type": "execute_result"
    }
   ],
   "source": [
    "df[\"prix_1\"]"
   ]
  },
  {
   "cell_type": "code",
   "execution_count": 41,
   "id": "b8c90d48-92c5-498e-8baa-d693a21ec3e6",
   "metadata": {},
   "outputs": [
    {
     "data": {
      "text/html": [
       "<div>\n",
       "<style scoped>\n",
       "    .dataframe tbody tr th:only-of-type {\n",
       "        vertical-align: middle;\n",
       "    }\n",
       "\n",
       "    .dataframe tbody tr th {\n",
       "        vertical-align: top;\n",
       "    }\n",
       "\n",
       "    .dataframe thead th {\n",
       "        text-align: right;\n",
       "    }\n",
       "</style>\n",
       "<table border=\"1\" class=\"dataframe\">\n",
       "  <thead>\n",
       "    <tr style=\"text-align: right;\">\n",
       "      <th></th>\n",
       "      <th>prix</th>\n",
       "      <th>pcs</th>\n",
       "      <th>desc</th>\n",
       "      <th>lien</th>\n",
       "      <th>neuf</th>\n",
       "      <th>maison</th>\n",
       "      <th>prix_1</th>\n",
       "    </tr>\n",
       "  </thead>\n",
       "  <tbody>\n",
       "    <tr>\n",
       "      <th>786</th>\n",
       "      <td>€</td>\n",
       "      <td></td>\n",
       "      <td>LE MEILLEUR DE TOURS – Une opportunité rare. R...</td>\n",
       "      <td>https://www.selogerneuf.com/annonces/investiss...</td>\n",
       "      <td>True</td>\n",
       "      <td>False</td>\n",
       "      <td></td>\n",
       "    </tr>\n",
       "  </tbody>\n",
       "</table>\n",
       "</div>"
      ],
      "text/plain": [
       "    prix pcs                                               desc  \\\n",
       "786    €      LE MEILLEUR DE TOURS – Une opportunité rare. R...   \n",
       "\n",
       "                                                  lien  neuf  maison prix_1  \n",
       "786  https://www.selogerneuf.com/annonces/investiss...  True   False         "
      ]
     },
     "execution_count": 41,
     "metadata": {},
     "output_type": "execute_result"
    }
   ],
   "source": [
    "df[df[\"prix_1\"] == \"\"]"
   ]
  },
  {
   "cell_type": "code",
   "execution_count": 43,
   "id": "c8a26a2d-b8eb-4509-8ee6-cd4d3c3c9a60",
   "metadata": {},
   "outputs": [
    {
     "data": {
      "text/html": [
       "<div>\n",
       "<style scoped>\n",
       "    .dataframe tbody tr th:only-of-type {\n",
       "        vertical-align: middle;\n",
       "    }\n",
       "\n",
       "    .dataframe tbody tr th {\n",
       "        vertical-align: top;\n",
       "    }\n",
       "\n",
       "    .dataframe thead th {\n",
       "        text-align: right;\n",
       "    }\n",
       "</style>\n",
       "<table border=\"1\" class=\"dataframe\">\n",
       "  <thead>\n",
       "    <tr style=\"text-align: right;\">\n",
       "      <th></th>\n",
       "      <th>prix</th>\n",
       "      <th>pcs</th>\n",
       "      <th>desc</th>\n",
       "      <th>lien</th>\n",
       "      <th>neuf</th>\n",
       "      <th>maison</th>\n",
       "      <th>prix_1</th>\n",
       "    </tr>\n",
       "  </thead>\n",
       "  <tbody>\n",
       "  </tbody>\n",
       "</table>\n",
       "</div>"
      ],
      "text/plain": [
       "Empty DataFrame\n",
       "Columns: [prix, pcs, desc, lien, neuf, maison, prix_1]\n",
       "Index: []"
      ]
     },
     "execution_count": 43,
     "metadata": {},
     "output_type": "execute_result"
    }
   ],
   "source": [
    "df.drop(df[df[\"prix_1\"] == \"\"].index, inplace=True)\n",
    "df.reset_index(inplace=True, drop=True)\n",
    "df.loc[df[\"prix_1\"] == \"\"]"
   ]
  },
  {
   "cell_type": "code",
   "execution_count": 44,
   "id": "cbf6fe69-c857-4170-af0b-fb09d281243b",
   "metadata": {},
   "outputs": [
    {
     "ename": "ValueError",
     "evalue": "could not convert string to float: '84680HH'",
     "output_type": "error",
     "traceback": [
      "\u001b[0;31m---------------------------------------------------------------------------\u001b[0m",
      "\u001b[0;31mValueError\u001b[0m                                Traceback (most recent call last)",
      "Cell \u001b[0;32mIn[44], line 1\u001b[0m\n\u001b[0;32m----> 1\u001b[0m df[\u001b[38;5;124m\"\u001b[39m\u001b[38;5;124mprix\u001b[39m\u001b[38;5;124m\"\u001b[39m] \u001b[38;5;241m=\u001b[39m \u001b[43mdf\u001b[49m\u001b[43m[\u001b[49m\u001b[38;5;124;43m\"\u001b[39;49m\u001b[38;5;124;43mprix_1\u001b[39;49m\u001b[38;5;124;43m\"\u001b[39;49m\u001b[43m]\u001b[49m\u001b[38;5;241;43m.\u001b[39;49m\u001b[43mastype\u001b[49m\u001b[43m(\u001b[49m\u001b[38;5;28;43mfloat\u001b[39;49m\u001b[43m)\u001b[49m\n",
      "File \u001b[0;32m~/.pyenv/versions/3.11.0/lib/python3.11/site-packages/pandas/core/generic.py:6534\u001b[0m, in \u001b[0;36mNDFrame.astype\u001b[0;34m(self, dtype, copy, errors)\u001b[0m\n\u001b[1;32m   6530\u001b[0m     results \u001b[38;5;241m=\u001b[39m [ser\u001b[38;5;241m.\u001b[39mastype(dtype, copy\u001b[38;5;241m=\u001b[39mcopy) \u001b[38;5;28;01mfor\u001b[39;00m _, ser \u001b[38;5;129;01min\u001b[39;00m \u001b[38;5;28mself\u001b[39m\u001b[38;5;241m.\u001b[39mitems()]\n\u001b[1;32m   6532\u001b[0m \u001b[38;5;28;01melse\u001b[39;00m:\n\u001b[1;32m   6533\u001b[0m     \u001b[38;5;66;03m# else, only a single dtype is given\u001b[39;00m\n\u001b[0;32m-> 6534\u001b[0m     new_data \u001b[38;5;241m=\u001b[39m \u001b[38;5;28;43mself\u001b[39;49m\u001b[38;5;241;43m.\u001b[39;49m\u001b[43m_mgr\u001b[49m\u001b[38;5;241;43m.\u001b[39;49m\u001b[43mastype\u001b[49m\u001b[43m(\u001b[49m\u001b[43mdtype\u001b[49m\u001b[38;5;241;43m=\u001b[39;49m\u001b[43mdtype\u001b[49m\u001b[43m,\u001b[49m\u001b[43m \u001b[49m\u001b[43mcopy\u001b[49m\u001b[38;5;241;43m=\u001b[39;49m\u001b[43mcopy\u001b[49m\u001b[43m,\u001b[49m\u001b[43m \u001b[49m\u001b[43merrors\u001b[49m\u001b[38;5;241;43m=\u001b[39;49m\u001b[43merrors\u001b[49m\u001b[43m)\u001b[49m\n\u001b[1;32m   6535\u001b[0m     res \u001b[38;5;241m=\u001b[39m \u001b[38;5;28mself\u001b[39m\u001b[38;5;241m.\u001b[39m_constructor_from_mgr(new_data, axes\u001b[38;5;241m=\u001b[39mnew_data\u001b[38;5;241m.\u001b[39maxes)\n\u001b[1;32m   6536\u001b[0m     \u001b[38;5;28;01mreturn\u001b[39;00m res\u001b[38;5;241m.\u001b[39m__finalize__(\u001b[38;5;28mself\u001b[39m, method\u001b[38;5;241m=\u001b[39m\u001b[38;5;124m\"\u001b[39m\u001b[38;5;124mastype\u001b[39m\u001b[38;5;124m\"\u001b[39m)\n",
      "File \u001b[0;32m~/.pyenv/versions/3.11.0/lib/python3.11/site-packages/pandas/core/internals/managers.py:414\u001b[0m, in \u001b[0;36mBaseBlockManager.astype\u001b[0;34m(self, dtype, copy, errors)\u001b[0m\n\u001b[1;32m    411\u001b[0m \u001b[38;5;28;01melif\u001b[39;00m using_copy_on_write():\n\u001b[1;32m    412\u001b[0m     copy \u001b[38;5;241m=\u001b[39m \u001b[38;5;28;01mFalse\u001b[39;00m\n\u001b[0;32m--> 414\u001b[0m \u001b[38;5;28;01mreturn\u001b[39;00m \u001b[38;5;28;43mself\u001b[39;49m\u001b[38;5;241;43m.\u001b[39;49m\u001b[43mapply\u001b[49m\u001b[43m(\u001b[49m\n\u001b[1;32m    415\u001b[0m \u001b[43m    \u001b[49m\u001b[38;5;124;43m\"\u001b[39;49m\u001b[38;5;124;43mastype\u001b[39;49m\u001b[38;5;124;43m\"\u001b[39;49m\u001b[43m,\u001b[49m\n\u001b[1;32m    416\u001b[0m \u001b[43m    \u001b[49m\u001b[43mdtype\u001b[49m\u001b[38;5;241;43m=\u001b[39;49m\u001b[43mdtype\u001b[49m\u001b[43m,\u001b[49m\n\u001b[1;32m    417\u001b[0m \u001b[43m    \u001b[49m\u001b[43mcopy\u001b[49m\u001b[38;5;241;43m=\u001b[39;49m\u001b[43mcopy\u001b[49m\u001b[43m,\u001b[49m\n\u001b[1;32m    418\u001b[0m \u001b[43m    \u001b[49m\u001b[43merrors\u001b[49m\u001b[38;5;241;43m=\u001b[39;49m\u001b[43merrors\u001b[49m\u001b[43m,\u001b[49m\n\u001b[1;32m    419\u001b[0m \u001b[43m    \u001b[49m\u001b[43musing_cow\u001b[49m\u001b[38;5;241;43m=\u001b[39;49m\u001b[43musing_copy_on_write\u001b[49m\u001b[43m(\u001b[49m\u001b[43m)\u001b[49m\u001b[43m,\u001b[49m\n\u001b[1;32m    420\u001b[0m \u001b[43m\u001b[49m\u001b[43m)\u001b[49m\n",
      "File \u001b[0;32m~/.pyenv/versions/3.11.0/lib/python3.11/site-packages/pandas/core/internals/managers.py:354\u001b[0m, in \u001b[0;36mBaseBlockManager.apply\u001b[0;34m(self, f, align_keys, **kwargs)\u001b[0m\n\u001b[1;32m    352\u001b[0m         applied \u001b[38;5;241m=\u001b[39m b\u001b[38;5;241m.\u001b[39mapply(f, \u001b[38;5;241m*\u001b[39m\u001b[38;5;241m*\u001b[39mkwargs)\n\u001b[1;32m    353\u001b[0m     \u001b[38;5;28;01melse\u001b[39;00m:\n\u001b[0;32m--> 354\u001b[0m         applied \u001b[38;5;241m=\u001b[39m \u001b[38;5;28;43mgetattr\u001b[39;49m\u001b[43m(\u001b[49m\u001b[43mb\u001b[49m\u001b[43m,\u001b[49m\u001b[43m \u001b[49m\u001b[43mf\u001b[49m\u001b[43m)\u001b[49m\u001b[43m(\u001b[49m\u001b[38;5;241;43m*\u001b[39;49m\u001b[38;5;241;43m*\u001b[39;49m\u001b[43mkwargs\u001b[49m\u001b[43m)\u001b[49m\n\u001b[1;32m    355\u001b[0m     result_blocks \u001b[38;5;241m=\u001b[39m extend_blocks(applied, result_blocks)\n\u001b[1;32m    357\u001b[0m out \u001b[38;5;241m=\u001b[39m \u001b[38;5;28mtype\u001b[39m(\u001b[38;5;28mself\u001b[39m)\u001b[38;5;241m.\u001b[39mfrom_blocks(result_blocks, \u001b[38;5;28mself\u001b[39m\u001b[38;5;241m.\u001b[39maxes)\n",
      "File \u001b[0;32m~/.pyenv/versions/3.11.0/lib/python3.11/site-packages/pandas/core/internals/blocks.py:616\u001b[0m, in \u001b[0;36mBlock.astype\u001b[0;34m(self, dtype, copy, errors, using_cow)\u001b[0m\n\u001b[1;32m    596\u001b[0m \u001b[38;5;250m\u001b[39m\u001b[38;5;124;03m\"\"\"\u001b[39;00m\n\u001b[1;32m    597\u001b[0m \u001b[38;5;124;03mCoerce to the new dtype.\u001b[39;00m\n\u001b[1;32m    598\u001b[0m \n\u001b[0;32m   (...)\u001b[0m\n\u001b[1;32m    612\u001b[0m \u001b[38;5;124;03mBlock\u001b[39;00m\n\u001b[1;32m    613\u001b[0m \u001b[38;5;124;03m\"\"\"\u001b[39;00m\n\u001b[1;32m    614\u001b[0m values \u001b[38;5;241m=\u001b[39m \u001b[38;5;28mself\u001b[39m\u001b[38;5;241m.\u001b[39mvalues\n\u001b[0;32m--> 616\u001b[0m new_values \u001b[38;5;241m=\u001b[39m \u001b[43mastype_array_safe\u001b[49m\u001b[43m(\u001b[49m\u001b[43mvalues\u001b[49m\u001b[43m,\u001b[49m\u001b[43m \u001b[49m\u001b[43mdtype\u001b[49m\u001b[43m,\u001b[49m\u001b[43m \u001b[49m\u001b[43mcopy\u001b[49m\u001b[38;5;241;43m=\u001b[39;49m\u001b[43mcopy\u001b[49m\u001b[43m,\u001b[49m\u001b[43m \u001b[49m\u001b[43merrors\u001b[49m\u001b[38;5;241;43m=\u001b[39;49m\u001b[43merrors\u001b[49m\u001b[43m)\u001b[49m\n\u001b[1;32m    618\u001b[0m new_values \u001b[38;5;241m=\u001b[39m maybe_coerce_values(new_values)\n\u001b[1;32m    620\u001b[0m refs \u001b[38;5;241m=\u001b[39m \u001b[38;5;28;01mNone\u001b[39;00m\n",
      "File \u001b[0;32m~/.pyenv/versions/3.11.0/lib/python3.11/site-packages/pandas/core/dtypes/astype.py:238\u001b[0m, in \u001b[0;36mastype_array_safe\u001b[0;34m(values, dtype, copy, errors)\u001b[0m\n\u001b[1;32m    235\u001b[0m     dtype \u001b[38;5;241m=\u001b[39m dtype\u001b[38;5;241m.\u001b[39mnumpy_dtype\n\u001b[1;32m    237\u001b[0m \u001b[38;5;28;01mtry\u001b[39;00m:\n\u001b[0;32m--> 238\u001b[0m     new_values \u001b[38;5;241m=\u001b[39m \u001b[43mastype_array\u001b[49m\u001b[43m(\u001b[49m\u001b[43mvalues\u001b[49m\u001b[43m,\u001b[49m\u001b[43m \u001b[49m\u001b[43mdtype\u001b[49m\u001b[43m,\u001b[49m\u001b[43m \u001b[49m\u001b[43mcopy\u001b[49m\u001b[38;5;241;43m=\u001b[39;49m\u001b[43mcopy\u001b[49m\u001b[43m)\u001b[49m\n\u001b[1;32m    239\u001b[0m \u001b[38;5;28;01mexcept\u001b[39;00m (\u001b[38;5;167;01mValueError\u001b[39;00m, \u001b[38;5;167;01mTypeError\u001b[39;00m):\n\u001b[1;32m    240\u001b[0m     \u001b[38;5;66;03m# e.g. _astype_nansafe can fail on object-dtype of strings\u001b[39;00m\n\u001b[1;32m    241\u001b[0m     \u001b[38;5;66;03m#  trying to convert to float\u001b[39;00m\n\u001b[1;32m    242\u001b[0m     \u001b[38;5;28;01mif\u001b[39;00m errors \u001b[38;5;241m==\u001b[39m \u001b[38;5;124m\"\u001b[39m\u001b[38;5;124mignore\u001b[39m\u001b[38;5;124m\"\u001b[39m:\n",
      "File \u001b[0;32m~/.pyenv/versions/3.11.0/lib/python3.11/site-packages/pandas/core/dtypes/astype.py:183\u001b[0m, in \u001b[0;36mastype_array\u001b[0;34m(values, dtype, copy)\u001b[0m\n\u001b[1;32m    180\u001b[0m     values \u001b[38;5;241m=\u001b[39m values\u001b[38;5;241m.\u001b[39mastype(dtype, copy\u001b[38;5;241m=\u001b[39mcopy)\n\u001b[1;32m    182\u001b[0m \u001b[38;5;28;01melse\u001b[39;00m:\n\u001b[0;32m--> 183\u001b[0m     values \u001b[38;5;241m=\u001b[39m \u001b[43m_astype_nansafe\u001b[49m\u001b[43m(\u001b[49m\u001b[43mvalues\u001b[49m\u001b[43m,\u001b[49m\u001b[43m \u001b[49m\u001b[43mdtype\u001b[49m\u001b[43m,\u001b[49m\u001b[43m \u001b[49m\u001b[43mcopy\u001b[49m\u001b[38;5;241;43m=\u001b[39;49m\u001b[43mcopy\u001b[49m\u001b[43m)\u001b[49m\n\u001b[1;32m    185\u001b[0m \u001b[38;5;66;03m# in pandas we don't store numpy str dtypes, so convert to object\u001b[39;00m\n\u001b[1;32m    186\u001b[0m \u001b[38;5;28;01mif\u001b[39;00m \u001b[38;5;28misinstance\u001b[39m(dtype, np\u001b[38;5;241m.\u001b[39mdtype) \u001b[38;5;129;01mand\u001b[39;00m \u001b[38;5;28missubclass\u001b[39m(values\u001b[38;5;241m.\u001b[39mdtype\u001b[38;5;241m.\u001b[39mtype, \u001b[38;5;28mstr\u001b[39m):\n",
      "File \u001b[0;32m~/.pyenv/versions/3.11.0/lib/python3.11/site-packages/pandas/core/dtypes/astype.py:134\u001b[0m, in \u001b[0;36m_astype_nansafe\u001b[0;34m(arr, dtype, copy, skipna)\u001b[0m\n\u001b[1;32m    130\u001b[0m     \u001b[38;5;28;01mraise\u001b[39;00m \u001b[38;5;167;01mValueError\u001b[39;00m(msg)\n\u001b[1;32m    132\u001b[0m \u001b[38;5;28;01mif\u001b[39;00m copy \u001b[38;5;129;01mor\u001b[39;00m arr\u001b[38;5;241m.\u001b[39mdtype \u001b[38;5;241m==\u001b[39m \u001b[38;5;28mobject\u001b[39m \u001b[38;5;129;01mor\u001b[39;00m dtype \u001b[38;5;241m==\u001b[39m \u001b[38;5;28mobject\u001b[39m:\n\u001b[1;32m    133\u001b[0m     \u001b[38;5;66;03m# Explicit copy, or required since NumPy can't view from / to object.\u001b[39;00m\n\u001b[0;32m--> 134\u001b[0m     \u001b[38;5;28;01mreturn\u001b[39;00m \u001b[43marr\u001b[49m\u001b[38;5;241;43m.\u001b[39;49m\u001b[43mastype\u001b[49m\u001b[43m(\u001b[49m\u001b[43mdtype\u001b[49m\u001b[43m,\u001b[49m\u001b[43m \u001b[49m\u001b[43mcopy\u001b[49m\u001b[38;5;241;43m=\u001b[39;49m\u001b[38;5;28;43;01mTrue\u001b[39;49;00m\u001b[43m)\u001b[49m\n\u001b[1;32m    136\u001b[0m \u001b[38;5;28;01mreturn\u001b[39;00m arr\u001b[38;5;241m.\u001b[39mastype(dtype, copy\u001b[38;5;241m=\u001b[39mcopy)\n",
      "\u001b[0;31mValueError\u001b[0m: could not convert string to float: '84680HH'"
     ]
    }
   ],
   "source": [
    "df[\"prix\"] = df[\"prix_1\"].astype(float)"
   ]
  },
  {
   "cell_type": "code",
   "execution_count": 45,
   "id": "5eb6a568-22e7-4ebf-81b5-dddd025cb032",
   "metadata": {},
   "outputs": [
    {
     "name": "stdout",
     "output_type": "stream",
     "text": [
      "84 680 € HH / 84680HH\n",
      "42 400 € HH / 42400HH\n",
      "63 600 € HH / 63600HH\n",
      "68 900 € HH / 68900HH\n",
      "70 000 € HH / 70000HH\n",
      "73 720 € HH / 73720HH\n",
      "84 650 € HH / 84650HH\n",
      "87 188 € HH / 87188HH\n",
      "89 260 € HH / 89260HH\n",
      "90 100 € HH / 90100HH\n",
      "93 512 € HH / 93512HH\n",
      "94 036 € HH / 94036HH\n",
      "96 500 € HH / 96500HH\n",
      "99 600 € HH / 99600HH\n",
      "99 640 € HH / 99640HH\n",
      "100 000 € HH / 100000HH\n",
      "102 820 € HH / 102820HH\n",
      "107 390 € HH / 107390HH\n",
      "115 160 € HH / 115160HH\n",
      "115 500 € HH / 115500HH\n",
      "116 600 € HH / 116600HH\n",
      "119 600 € HH / 119600HH\n",
      "120 340 € HH / 120340HH\n",
      "121 900 € HH / 121900HH\n",
      "125 000 € HH / 125000HH\n",
      "125 520 € HH / 125520HH\n",
      "126 140 € HH / 126140HH\n",
      "127 200 € HH / 127200HH\n",
      "127 946 € HH / 127946HH\n",
      "129 500 € HH / 129500HH\n",
      "129 500 € HH / 129500HH\n",
      "130 000 € HH / 130000HH\n",
      "133 000 € HH / 133000HH\n",
      "135 200 € HH / 135200HH\n",
      "135 880 € HH / 135880HH\n",
      "135 880 € HH / 135880HH\n",
      "137 280 € HH / 137280HH\n",
      "139 000 € HH / 139000HH\n",
      "139 965 € HH / 139965HH\n",
      "141 060 € HH / 141060HH\n",
      "146 240 € HH / 146240HH\n",
      "146 240 € HH / 146240HH\n",
      "148 400 € HH / 148400HH\n",
      "155 872 € HH / 155872HH\n",
      "156 000 € HH / 156000HH\n",
      "162 460 € HH / 162460HH\n",
      "178 500 € HH / 178500HH\n",
      "203 220 € HH / 203220HH\n",
      "203 220 € HH / 203220HH\n",
      "206 570 € HH / 206570HH\n",
      "208 000 € HH / 208000HH\n",
      "208 400 € HH / 208400HH\n",
      "218 760 € HH / 218760HH\n",
      "262 020 € HH / 262020HH\n",
      "270 560 € HH / 270560HH\n",
      "278 740 € HH / 278740HH\n",
      "290 440 € HH / 290440HH\n",
      "311 250 € HH / 311250HH\n",
      "315 000 € HH / 315000HH\n",
      "362 600 € HH / 362600HH\n",
      "370 000 € HH / 370000HH\n",
      "380 330 € HH / 380330HH\n",
      "399 000 € HH / 399000HH\n",
      "428 300 € HH / 428300HH\n",
      "438 000 € HH / 438000HH\n",
      "459 500 € HH / 459500HH\n",
      "112 460 € HH / 112460HH\n",
      "115 550 € HH / 115550HH\n",
      "125 850 € HH / 125850HH\n",
      "181 470 € HH / 181470HH\n",
      "230 000 € HH / 230000HH\n",
      "265 650 € HH / 265650HH\n",
      "294 000 € HH / 294000HH\n",
      "299 600 € HH / 299600HH\n",
      "336 000 € HH / 336000HH\n",
      "369 200 € HH / 369200HH\n",
      "384 800 € HH / 384800HH\n",
      "249 840 € HH / 249840HH\n",
      "362 600 € HH / 362600HH\n",
      "109 816 € HH / 109816HH\n",
      "217 560 € HH / 217560HH\n",
      "322 360 € HH / 322360HH\n"
     ]
    }
   ],
   "source": [
    "# version bourrine\n",
    "for orig, val in zip(df[\"prix\"], df[\"prix_1\"]):\n",
    "    try:\n",
    "        float(val)\n",
    "    except ValueError:\n",
    "        print(orig, \"/\", val)"
   ]
  },
  {
   "cell_type": "code",
   "execution_count": 46,
   "id": "3d1acbea-64ab-4201-a30f-878090e1d03a",
   "metadata": {},
   "outputs": [],
   "source": [
    "df[\"prix_1\"] = df[\"prix\"].str.replace(\"€\", \"\").str.replace(\" \",\"\").str.replace(\"HH\", \"\")"
   ]
  },
  {
   "cell_type": "code",
   "execution_count": 47,
   "id": "352c71e5-e75f-448f-a06c-71df74675167",
   "metadata": {},
   "outputs": [],
   "source": [
    "df[\"prix\"] = df[\"prix_1\"].astype(float)"
   ]
  },
  {
   "cell_type": "code",
   "execution_count": 48,
   "id": "5de77819-f393-40eb-b3fe-d22e538aba46",
   "metadata": {},
   "outputs": [
    {
     "data": {
      "text/plain": [
       "Index(['prix', 'pcs', 'desc', 'lien', 'neuf', 'maison'], dtype='object')"
      ]
     },
     "execution_count": 48,
     "metadata": {},
     "output_type": "execute_result"
    }
   ],
   "source": [
    "df.drop(columns=\"prix_1\", inplace=True)\n",
    "df.columns"
   ]
  },
  {
   "cell_type": "markdown",
   "id": "67cb61b2-a887-438c-a5b2-5ff42f3a3482",
   "metadata": {},
   "source": [
    "## Gestion de `pcs`"
   ]
  },
  {
   "cell_type": "code",
   "execution_count": 49,
   "id": "6382e3ee-6be6-4cb9-a08e-4525c0d8171e",
   "metadata": {},
   "outputs": [
    {
     "data": {
      "text/plain": [
       "0           3 p 2 ch 90 m²\n",
       "1       5 p 4 ch 146,27 m²\n",
       "2          5 p 3 ch 110 m²\n",
       "3          6 p 4 ch 132 m²\n",
       "4          7 p 5 ch 185 m²\n",
       "               ...        \n",
       "1626           3 p 66,3 m²\n",
       "1627        2 p 1 ch 42 m²\n",
       "1628        3 p 2 ch 76 m²\n",
       "1629           4 p 84,4 m²\n",
       "1630           4 p 84,4 m²\n",
       "Name: pcs, Length: 1631, dtype: object"
      ]
     },
     "execution_count": 49,
     "metadata": {},
     "output_type": "execute_result"
    }
   ],
   "source": [
    "df.pcs"
   ]
  },
  {
   "cell_type": "code",
   "execution_count": 50,
   "id": "d2f83b50-7c2e-4bf6-bfdf-343e7b0bbcf7",
   "metadata": {},
   "outputs": [],
   "source": [
    "test1 = \"3 p 2 ch 90 m²\"\n",
    "test2 = \"5 p 4 ch 146,27 m²\"\n",
    "test3 = \"4 p 84,4 m²\""
   ]
  },
  {
   "cell_type": "code",
   "execution_count": 51,
   "id": "2a566184-7f5a-4da8-9955-637f1f5d58a9",
   "metadata": {},
   "outputs": [],
   "source": [
    "import re"
   ]
  },
  {
   "cell_type": "code",
   "execution_count": 52,
   "id": "255a0cad-3795-4da6-969b-def505bd2e7e",
   "metadata": {},
   "outputs": [],
   "source": [
    "motif1 = re.compile(\"^([0-9]+) p ([0-9]+) ch ([0-9]+(,[0-9]+)?) m²$\")"
   ]
  },
  {
   "cell_type": "code",
   "execution_count": 53,
   "id": "d10048cc-381c-4aeb-93f1-9ac9e5fc27a2",
   "metadata": {},
   "outputs": [
    {
     "data": {
      "text/plain": [
       "<re.Match object; span=(0, 14), match='3 p 2 ch 90 m²'>"
      ]
     },
     "execution_count": 53,
     "metadata": {},
     "output_type": "execute_result"
    }
   ],
   "source": [
    "motif1.match(test1)"
   ]
  },
  {
   "cell_type": "code",
   "execution_count": 54,
   "id": "da3487e0-969b-476b-8010-5b0cfc8606a9",
   "metadata": {},
   "outputs": [
    {
     "data": {
      "text/plain": [
       "<re.Match object; span=(0, 18), match='5 p 4 ch 146,27 m²'>"
      ]
     },
     "execution_count": 54,
     "metadata": {},
     "output_type": "execute_result"
    }
   ],
   "source": [
    "motif1.match(test2)"
   ]
  },
  {
   "cell_type": "code",
   "execution_count": 55,
   "id": "c8cb34a2-1861-449f-9dad-fe2170d28058",
   "metadata": {},
   "outputs": [],
   "source": [
    "motif1.match(test3)"
   ]
  },
  {
   "cell_type": "code",
   "execution_count": 56,
   "id": "71d1939c-34ab-4102-8625-c9b7132e508c",
   "metadata": {},
   "outputs": [
    {
     "data": {
      "text/plain": [
       "('3', '2', '90', None)"
      ]
     },
     "execution_count": 56,
     "metadata": {},
     "output_type": "execute_result"
    }
   ],
   "source": [
    "res = motif1.match(test1)\n",
    "res.groups()"
   ]
  },
  {
   "cell_type": "code",
   "execution_count": 57,
   "id": "cf82375b-11ef-41fb-a149-bfbd480c8dce",
   "metadata": {},
   "outputs": [
    {
     "data": {
      "text/plain": [
       "('5', '4', '146,27', ',27')"
      ]
     },
     "execution_count": 57,
     "metadata": {},
     "output_type": "execute_result"
    }
   ],
   "source": [
    "res = motif1.match(test2)\n",
    "res.groups()"
   ]
  },
  {
   "cell_type": "code",
   "execution_count": 58,
   "id": "c4685a64-6674-4544-9652-a4ec0fd7978a",
   "metadata": {},
   "outputs": [],
   "source": [
    "motif2 = re.compile(\"^([0-9]+) p ([0-9]+(,[0-9]+)?) m²$\")"
   ]
  },
  {
   "cell_type": "code",
   "execution_count": 59,
   "id": "69dfd3fc-6d57-4f85-839c-cc18496b9fb7",
   "metadata": {},
   "outputs": [],
   "source": [
    "motif2.match(test1)"
   ]
  },
  {
   "cell_type": "code",
   "execution_count": 60,
   "id": "2581f76c-e11c-4a59-9d53-86cf1c0d12d6",
   "metadata": {},
   "outputs": [],
   "source": [
    "motif2.match(test2)"
   ]
  },
  {
   "cell_type": "code",
   "execution_count": 61,
   "id": "da09f167-1a8b-4212-8944-aaed72d24cbe",
   "metadata": {},
   "outputs": [
    {
     "data": {
      "text/plain": [
       "<re.Match object; span=(0, 11), match='4 p 84,4 m²'>"
      ]
     },
     "execution_count": 61,
     "metadata": {},
     "output_type": "execute_result"
    }
   ],
   "source": [
    "motif2.match(test3)"
   ]
  },
  {
   "cell_type": "code",
   "execution_count": 62,
   "id": "e86bdc3a-dea8-479e-bd1d-66bde6b48862",
   "metadata": {},
   "outputs": [
    {
     "data": {
      "text/plain": [
       "('4', '84,4', ',4')"
      ]
     },
     "execution_count": 62,
     "metadata": {},
     "output_type": "execute_result"
    }
   ],
   "source": [
    "motif2.match(test3).groups()"
   ]
  },
  {
   "cell_type": "code",
   "execution_count": 63,
   "id": "810afd34-de7b-486d-8202-0fa59f3616b5",
   "metadata": {},
   "outputs": [
    {
     "data": {
      "text/plain": [
       "(1477, 6)"
      ]
     },
     "execution_count": 63,
     "metadata": {},
     "output_type": "execute_result"
    }
   ],
   "source": [
    "df.loc[df[\"pcs\"].str.match(motif1) | df[\"pcs\"].str.match(motif2)].shape"
   ]
  },
  {
   "cell_type": "code",
   "execution_count": 64,
   "id": "c629c1d6-6306-48fb-890b-a68a333d542a",
   "metadata": {},
   "outputs": [
    {
     "data": {
      "text/plain": [
       "(1631, 6)"
      ]
     },
     "execution_count": 64,
     "metadata": {},
     "output_type": "execute_result"
    }
   ],
   "source": [
    "df.shape"
   ]
  },
  {
   "cell_type": "code",
   "execution_count": 65,
   "id": "63ab6770-3761-4ba6-a2f2-43fc6c35aec1",
   "metadata": {},
   "outputs": [],
   "source": [
    "m = df[\"pcs\"].str.match(motif1)"
   ]
  },
  {
   "cell_type": "code",
   "execution_count": 66,
   "id": "b897380f-862b-4a98-8c29-1fb2e76bdaac",
   "metadata": {},
   "outputs": [
    {
     "data": {
      "text/plain": [
       "18       2 p 31,6 m² 1 balc\n",
       "19      3 p 60,73 m² 1 balc\n",
       "34         1 p 25 m² 1 tess\n",
       "41        3 p 61,96 m² tess\n",
       "53          1 p 30 m² 5 etg\n",
       "               ...         \n",
       "1550     1 p 36,59 m² 1 asc\n",
       "1551        1 p 19 m² 4 etg\n",
       "1598        1 p 31 m² 1 asc\n",
       "1623     1 p 13,77 m² 3 etg\n",
       "1624        1 p 26 m² 1 asc\n",
       "Name: pcs, Length: 154, dtype: object"
      ]
     },
     "execution_count": 66,
     "metadata": {},
     "output_type": "execute_result"
    }
   ],
   "source": [
    "df.loc[~(df[\"pcs\"].str.match(motif1) | df[\"pcs\"].str.match(motif2))][\"pcs\"]"
   ]
  },
  {
   "cell_type": "markdown",
   "id": "17c113e2-9e63-423b-8397-221363ffb062",
   "metadata": {},
   "source": [
    "**REMARQUE** plutôt que de continuer à construire des motifs, on va chercher à récupérer directement les variables d'intérêt."
   ]
  },
  {
   "cell_type": "markdown",
   "id": "bb084513-f380-4036-8c34-1d51c0a8140c",
   "metadata": {},
   "source": [
    "### Extraction de la surface"
   ]
  },
  {
   "cell_type": "code",
   "execution_count": 67,
   "id": "6bc1e9fe-eb17-4cc1-8edc-ed7879bd49ce",
   "metadata": {},
   "outputs": [],
   "source": [
    "motif_surface = re.compile(\"^.*?([0-9]+(,[0-9]+)?) m².*$\")"
   ]
  },
  {
   "cell_type": "code",
   "execution_count": 68,
   "id": "1382f75f-390b-4b66-8f77-32a8acd6f573",
   "metadata": {},
   "outputs": [
    {
     "name": "stdout",
     "output_type": "stream",
     "text": [
      "3 p 2 ch 90 m²\n"
     ]
    },
    {
     "data": {
      "text/plain": [
       "('90', None)"
      ]
     },
     "execution_count": 68,
     "metadata": {},
     "output_type": "execute_result"
    }
   ],
   "source": [
    "print(test1)\n",
    "motif_surface.match(test1).groups()"
   ]
  },
  {
   "cell_type": "code",
   "execution_count": 69,
   "id": "89625871-3500-4779-8e49-0b132aa8bf33",
   "metadata": {},
   "outputs": [
    {
     "name": "stdout",
     "output_type": "stream",
     "text": [
      "5 p 4 ch 146,27 m²\n"
     ]
    },
    {
     "data": {
      "text/plain": [
       "('146,27', ',27')"
      ]
     },
     "execution_count": 69,
     "metadata": {},
     "output_type": "execute_result"
    }
   ],
   "source": [
    "print(test2)\n",
    "motif_surface.match(test2).groups()"
   ]
  },
  {
   "cell_type": "code",
   "execution_count": 70,
   "id": "d5554f84-3a33-4ee2-8a7e-23fc623e6a18",
   "metadata": {},
   "outputs": [
    {
     "name": "stdout",
     "output_type": "stream",
     "text": [
      "4 p 84,4 m²\n"
     ]
    },
    {
     "data": {
      "text/plain": [
       "('84,4', ',4')"
      ]
     },
     "execution_count": 70,
     "metadata": {},
     "output_type": "execute_result"
    }
   ],
   "source": [
    "print(test3)\n",
    "motif_surface.match(test3).groups()"
   ]
  },
  {
   "cell_type": "code",
   "execution_count": 71,
   "id": "cce10a10-5a2f-4808-93de-44252f88d4ce",
   "metadata": {},
   "outputs": [
    {
     "data": {
      "text/html": [
       "<div>\n",
       "<style scoped>\n",
       "    .dataframe tbody tr th:only-of-type {\n",
       "        vertical-align: middle;\n",
       "    }\n",
       "\n",
       "    .dataframe tbody tr th {\n",
       "        vertical-align: top;\n",
       "    }\n",
       "\n",
       "    .dataframe thead th {\n",
       "        text-align: right;\n",
       "    }\n",
       "</style>\n",
       "<table border=\"1\" class=\"dataframe\">\n",
       "  <thead>\n",
       "    <tr style=\"text-align: right;\">\n",
       "      <th></th>\n",
       "      <th>prix</th>\n",
       "      <th>pcs</th>\n",
       "      <th>desc</th>\n",
       "      <th>lien</th>\n",
       "      <th>neuf</th>\n",
       "      <th>maison</th>\n",
       "    </tr>\n",
       "  </thead>\n",
       "  <tbody>\n",
       "    <tr>\n",
       "      <th>418</th>\n",
       "      <td>130000.0</td>\n",
       "      <td>2 p 1 ch 1 etg</td>\n",
       "      <td>Dans le quartier des 2 Lions, à proximité des ...</td>\n",
       "      <td>https://www.seloger.com/annonces/achat/apparte...</td>\n",
       "      <td>False</td>\n",
       "      <td>False</td>\n",
       "    </tr>\n",
       "    <tr>\n",
       "      <th>422</th>\n",
       "      <td>192600.0</td>\n",
       "      <td>4 p 3 ch 1 etg</td>\n",
       "      <td>UNE EXCLUSIVITÉ CITYA TOURS NORD TYPE 4 - A To...</td>\n",
       "      <td>https://www.seloger.com/annonces/achat/apparte...</td>\n",
       "      <td>False</td>\n",
       "      <td>False</td>\n",
       "    </tr>\n",
       "    <tr>\n",
       "      <th>424</th>\n",
       "      <td>300000.0</td>\n",
       "      <td>9 p 4 ch</td>\n",
       "      <td>MK 8772-A 25min OUEST de Tours-Maison ancienne...</td>\n",
       "      <td>https://www.seloger.com/annonces/achat/maison/...</td>\n",
       "      <td>False</td>\n",
       "      <td>True</td>\n",
       "    </tr>\n",
       "    <tr>\n",
       "      <th>494</th>\n",
       "      <td>133625.0</td>\n",
       "      <td>2 p</td>\n",
       "      <td>INVETISSEUR - TOURS - IDÉAL INVESTISSEUR Appar...</td>\n",
       "      <td>https://www.seloger.com/annonces/achat/apparte...</td>\n",
       "      <td>False</td>\n",
       "      <td>False</td>\n",
       "    </tr>\n",
       "    <tr>\n",
       "      <th>591</th>\n",
       "      <td>96000.0</td>\n",
       "      <td>3 p 1 ch 1 asc</td>\n",
       "      <td>VUE DÉGAGÉE Très lumineux et sans vis à vis ! ...</td>\n",
       "      <td>https://www.seloger.com/annonces/achat/apparte...</td>\n",
       "      <td>False</td>\n",
       "      <td>False</td>\n",
       "    </tr>\n",
       "    <tr>\n",
       "      <th>592</th>\n",
       "      <td>135000.0</td>\n",
       "      <td>4 p 3 ch 3 etg</td>\n",
       "      <td>Tours -Parc de Grammont - Tours-parc de Grammo...</td>\n",
       "      <td>https://www.seloger.com/annonces/achat/apparte...</td>\n",
       "      <td>False</td>\n",
       "      <td>False</td>\n",
       "    </tr>\n",
       "    <tr>\n",
       "      <th>594</th>\n",
       "      <td>149000.0</td>\n",
       "      <td>1 p 3 etg</td>\n",
       "      <td>Au coeur de l'hyper centre, dans une bâtisse c...</td>\n",
       "      <td>https://www.seloger.com/annonces/achat/apparte...</td>\n",
       "      <td>False</td>\n",
       "      <td>False</td>\n",
       "    </tr>\n",
       "  </tbody>\n",
       "</table>\n",
       "</div>"
      ],
      "text/plain": [
       "         prix             pcs  \\\n",
       "418  130000.0  2 p 1 ch 1 etg   \n",
       "422  192600.0  4 p 3 ch 1 etg   \n",
       "424  300000.0        9 p 4 ch   \n",
       "494  133625.0             2 p   \n",
       "591   96000.0  3 p 1 ch 1 asc   \n",
       "592  135000.0  4 p 3 ch 3 etg   \n",
       "594  149000.0       1 p 3 etg   \n",
       "\n",
       "                                                  desc  \\\n",
       "418  Dans le quartier des 2 Lions, à proximité des ...   \n",
       "422  UNE EXCLUSIVITÉ CITYA TOURS NORD TYPE 4 - A To...   \n",
       "424  MK 8772-A 25min OUEST de Tours-Maison ancienne...   \n",
       "494  INVETISSEUR - TOURS - IDÉAL INVESTISSEUR Appar...   \n",
       "591  VUE DÉGAGÉE Très lumineux et sans vis à vis ! ...   \n",
       "592  Tours -Parc de Grammont - Tours-parc de Grammo...   \n",
       "594  Au coeur de l'hyper centre, dans une bâtisse c...   \n",
       "\n",
       "                                                  lien   neuf  maison  \n",
       "418  https://www.seloger.com/annonces/achat/apparte...  False   False  \n",
       "422  https://www.seloger.com/annonces/achat/apparte...  False   False  \n",
       "424  https://www.seloger.com/annonces/achat/maison/...  False    True  \n",
       "494  https://www.seloger.com/annonces/achat/apparte...  False   False  \n",
       "591  https://www.seloger.com/annonces/achat/apparte...  False   False  \n",
       "592  https://www.seloger.com/annonces/achat/apparte...  False   False  \n",
       "594  https://www.seloger.com/annonces/achat/apparte...  False   False  "
      ]
     },
     "execution_count": 71,
     "metadata": {},
     "output_type": "execute_result"
    }
   ],
   "source": [
    "df[~df[\"pcs\"].str.match(motif_surface)]"
   ]
  },
  {
   "cell_type": "markdown",
   "id": "149befa8-7a73-4d79-8096-9b97db9d7d9f",
   "metadata": {},
   "source": [
    "**REMARQUE** on pourrait utiliser le nombre de pièces pour faire de l'imputation, ici on va juste supprimer les lignes de l'échantillon."
   ]
  },
  {
   "cell_type": "code",
   "execution_count": 72,
   "id": "8b284efd-64bd-45d1-a3f0-ae9131b9ab41",
   "metadata": {},
   "outputs": [],
   "source": [
    "df.drop(df[~df[\"pcs\"].str.match(motif_surface)].index, inplace=True)\n",
    "df.reset_index(inplace=True, drop=True)"
   ]
  },
  {
   "cell_type": "code",
   "execution_count": 73,
   "id": "6b3e2504-5931-4a2f-8ae2-945f44f26c5a",
   "metadata": {},
   "outputs": [],
   "source": [
    "df[\"surface\"] = df[\"pcs\"].str.extract(motif_surface)[0]"
   ]
  },
  {
   "cell_type": "code",
   "execution_count": 74,
   "id": "9cc23912-b41b-4d55-8b45-8215e7cd98b5",
   "metadata": {},
   "outputs": [
    {
     "data": {
      "text/html": [
       "<div>\n",
       "<style scoped>\n",
       "    .dataframe tbody tr th:only-of-type {\n",
       "        vertical-align: middle;\n",
       "    }\n",
       "\n",
       "    .dataframe tbody tr th {\n",
       "        vertical-align: top;\n",
       "    }\n",
       "\n",
       "    .dataframe thead th {\n",
       "        text-align: right;\n",
       "    }\n",
       "</style>\n",
       "<table border=\"1\" class=\"dataframe\">\n",
       "  <thead>\n",
       "    <tr style=\"text-align: right;\">\n",
       "      <th></th>\n",
       "      <th>prix</th>\n",
       "      <th>pcs</th>\n",
       "      <th>desc</th>\n",
       "      <th>lien</th>\n",
       "      <th>neuf</th>\n",
       "      <th>maison</th>\n",
       "      <th>surface</th>\n",
       "    </tr>\n",
       "  </thead>\n",
       "  <tbody>\n",
       "    <tr>\n",
       "      <th>0</th>\n",
       "      <td>374400.0</td>\n",
       "      <td>3 p 2 ch 90 m²</td>\n",
       "      <td>Appartement type 3 - TOURS CATHÉDRALE TOURS CA...</td>\n",
       "      <td>https://www.seloger.com/annonces/achat/apparte...</td>\n",
       "      <td>False</td>\n",
       "      <td>False</td>\n",
       "      <td>90</td>\n",
       "    </tr>\n",
       "    <tr>\n",
       "      <th>1</th>\n",
       "      <td>499200.0</td>\n",
       "      <td>5 p 4 ch 146,27 m²</td>\n",
       "      <td>TOURS HYPERCENTRE - Appartement TOURS HYPERCEN...</td>\n",
       "      <td>https://www.seloger.com/annonces/achat/apparte...</td>\n",
       "      <td>False</td>\n",
       "      <td>False</td>\n",
       "      <td>146,27</td>\n",
       "    </tr>\n",
       "    <tr>\n",
       "      <th>2</th>\n",
       "      <td>499200.0</td>\n",
       "      <td>5 p 3 ch 110 m²</td>\n",
       "      <td>TOURS PRÉBENDES NORD - APPARTEMENT TOURS PRÉBE...</td>\n",
       "      <td>https://www.seloger.com/annonces/achat/apparte...</td>\n",
       "      <td>False</td>\n",
       "      <td>False</td>\n",
       "      <td>110</td>\n",
       "    </tr>\n",
       "    <tr>\n",
       "      <th>3</th>\n",
       "      <td>508000.0</td>\n",
       "      <td>6 p 4 ch 132 m²</td>\n",
       "      <td>TOURS PRÉBENDES - PARTICULIER TOURANGEAUX TOUR...</td>\n",
       "      <td>https://www.seloger.com/annonces/achat/maison/...</td>\n",
       "      <td>False</td>\n",
       "      <td>True</td>\n",
       "      <td>132</td>\n",
       "    </tr>\n",
       "    <tr>\n",
       "      <th>4</th>\n",
       "      <td>676000.0</td>\n",
       "      <td>7 p 5 ch 185 m²</td>\n",
       "      <td>TOURS STRASBOURG / RABELAIS - Maison TOURS STR...</td>\n",
       "      <td>https://www.seloger.com/annonces/achat-de-pres...</td>\n",
       "      <td>False</td>\n",
       "      <td>True</td>\n",
       "      <td>185</td>\n",
       "    </tr>\n",
       "    <tr>\n",
       "      <th>...</th>\n",
       "      <td>...</td>\n",
       "      <td>...</td>\n",
       "      <td>...</td>\n",
       "      <td>...</td>\n",
       "      <td>...</td>\n",
       "      <td>...</td>\n",
       "      <td>...</td>\n",
       "    </tr>\n",
       "    <tr>\n",
       "      <th>1619</th>\n",
       "      <td>254900.0</td>\n",
       "      <td>3 p 66,3 m²</td>\n",
       "      <td>Maisons de ville 3 chambres avec jardin ou app...</td>\n",
       "      <td>https://www.selogerneuf.com/annonces/achat/app...</td>\n",
       "      <td>True</td>\n",
       "      <td>False</td>\n",
       "      <td>66,3</td>\n",
       "    </tr>\n",
       "    <tr>\n",
       "      <th>1620</th>\n",
       "      <td>61500.0</td>\n",
       "      <td>2 p 1 ch 42 m²</td>\n",
       "      <td>TOURS - Fontaines, Appartement de type 2 compr...</td>\n",
       "      <td>https://www.seloger.com/annonces/achat/apparte...</td>\n",
       "      <td>False</td>\n",
       "      <td>False</td>\n",
       "      <td>42</td>\n",
       "    </tr>\n",
       "    <tr>\n",
       "      <th>1621</th>\n",
       "      <td>108500.0</td>\n",
       "      <td>3 p 2 ch 76 m²</td>\n",
       "      <td>TOURS - Appartement de Type 3 comprenant séjou...</td>\n",
       "      <td>https://www.seloger.com/annonces/achat/apparte...</td>\n",
       "      <td>False</td>\n",
       "      <td>False</td>\n",
       "      <td>76</td>\n",
       "    </tr>\n",
       "    <tr>\n",
       "      <th>1622</th>\n",
       "      <td>320000.0</td>\n",
       "      <td>4 p 84,4 m²</td>\n",
       "      <td>Maisons de ville 3 chambres avec jardin ou app...</td>\n",
       "      <td>https://www.selogerneuf.com/annonces/achat/mai...</td>\n",
       "      <td>True</td>\n",
       "      <td>True</td>\n",
       "      <td>84,4</td>\n",
       "    </tr>\n",
       "    <tr>\n",
       "      <th>1623</th>\n",
       "      <td>320000.0</td>\n",
       "      <td>4 p 84,4 m²</td>\n",
       "      <td>Maisons de ville 3 chambres avec jardin ou app...</td>\n",
       "      <td>https://www.selogerneuf.com/annonces/achat/mai...</td>\n",
       "      <td>True</td>\n",
       "      <td>True</td>\n",
       "      <td>84,4</td>\n",
       "    </tr>\n",
       "  </tbody>\n",
       "</table>\n",
       "<p>1624 rows × 7 columns</p>\n",
       "</div>"
      ],
      "text/plain": [
       "          prix                 pcs  \\\n",
       "0     374400.0      3 p 2 ch 90 m²   \n",
       "1     499200.0  5 p 4 ch 146,27 m²   \n",
       "2     499200.0     5 p 3 ch 110 m²   \n",
       "3     508000.0     6 p 4 ch 132 m²   \n",
       "4     676000.0     7 p 5 ch 185 m²   \n",
       "...        ...                 ...   \n",
       "1619  254900.0         3 p 66,3 m²   \n",
       "1620   61500.0      2 p 1 ch 42 m²   \n",
       "1621  108500.0      3 p 2 ch 76 m²   \n",
       "1622  320000.0         4 p 84,4 m²   \n",
       "1623  320000.0         4 p 84,4 m²   \n",
       "\n",
       "                                                   desc  \\\n",
       "0     Appartement type 3 - TOURS CATHÉDRALE TOURS CA...   \n",
       "1     TOURS HYPERCENTRE - Appartement TOURS HYPERCEN...   \n",
       "2     TOURS PRÉBENDES NORD - APPARTEMENT TOURS PRÉBE...   \n",
       "3     TOURS PRÉBENDES - PARTICULIER TOURANGEAUX TOUR...   \n",
       "4     TOURS STRASBOURG / RABELAIS - Maison TOURS STR...   \n",
       "...                                                 ...   \n",
       "1619  Maisons de ville 3 chambres avec jardin ou app...   \n",
       "1620  TOURS - Fontaines, Appartement de type 2 compr...   \n",
       "1621  TOURS - Appartement de Type 3 comprenant séjou...   \n",
       "1622  Maisons de ville 3 chambres avec jardin ou app...   \n",
       "1623  Maisons de ville 3 chambres avec jardin ou app...   \n",
       "\n",
       "                                                   lien   neuf  maison surface  \n",
       "0     https://www.seloger.com/annonces/achat/apparte...  False   False      90  \n",
       "1     https://www.seloger.com/annonces/achat/apparte...  False   False  146,27  \n",
       "2     https://www.seloger.com/annonces/achat/apparte...  False   False     110  \n",
       "3     https://www.seloger.com/annonces/achat/maison/...  False    True     132  \n",
       "4     https://www.seloger.com/annonces/achat-de-pres...  False    True     185  \n",
       "...                                                 ...    ...     ...     ...  \n",
       "1619  https://www.selogerneuf.com/annonces/achat/app...   True   False    66,3  \n",
       "1620  https://www.seloger.com/annonces/achat/apparte...  False   False      42  \n",
       "1621  https://www.seloger.com/annonces/achat/apparte...  False   False      76  \n",
       "1622  https://www.selogerneuf.com/annonces/achat/mai...   True    True    84,4  \n",
       "1623  https://www.selogerneuf.com/annonces/achat/mai...   True    True    84,4  \n",
       "\n",
       "[1624 rows x 7 columns]"
      ]
     },
     "execution_count": 74,
     "metadata": {},
     "output_type": "execute_result"
    }
   ],
   "source": [
    "df"
   ]
  }
 ],
 "metadata": {
  "kernelspec": {
   "display_name": "Python 3 (ipykernel)",
   "language": "python",
   "name": "python3"
  },
  "language_info": {
   "codemirror_mode": {
    "name": "ipython",
    "version": 3
   },
   "file_extension": ".py",
   "mimetype": "text/x-python",
   "name": "python",
   "nbconvert_exporter": "python",
   "pygments_lexer": "ipython3",
   "version": "3.11.0"
  }
 },
 "nbformat": 4,
 "nbformat_minor": 5
}
