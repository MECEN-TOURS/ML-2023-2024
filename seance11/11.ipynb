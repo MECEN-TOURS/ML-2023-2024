{
 "cells": [
  {
   "cell_type": "markdown",
   "id": "ff9b6913-0f85-44d8-8014-8e860becc652",
   "metadata": {},
   "source": [
    "# Objectif\n",
    "\n",
    "Finir l'exploitation du *vrai* dataset commencée aux séances 09 et 10."
   ]
  },
  {
   "cell_type": "code",
   "execution_count": 30,
   "id": "b2eeb32c-9de0-467f-8d44-7540f1cf7e93",
   "metadata": {},
   "outputs": [],
   "source": [
    "from requests import get\n",
    "import pandas as pd\n",
    "import json\n",
    "import re\n",
    "import numpy as np\n",
    "from sklearn.model_selection import train_test_split, GridSearchCV, cross_val_score\n",
    "from sklearn.neighbors import KNeighborsRegressor\n",
    "from sklearn.ensemble import RandomForestRegressor, GradientBoostingRegressor\n",
    "from sklearn.neural_network import MLPRegressor\n",
    "from sklearn.linear_model import Ridge\n",
    "from sklearn.svm import SVR\n",
    "from sklearn.impute import SimpleImputer, KNNImputer, MissingIndicator\n",
    "from sklearn.pipeline import Pipeline, FeatureUnion\n",
    "from sklearn.preprocessing import MinMaxScaler, StandardScaler\n",
    "from scipy.optimize import minimize_scalar, minimize, basinhopping"
   ]
  },
  {
   "cell_type": "code",
   "execution_count": 4,
   "id": "d843e52e-c0b6-4ab7-b3eb-049157884414",
   "metadata": {
    "tags": []
   },
   "outputs": [],
   "source": [
    "ADRESSE = \"https://raw.githubusercontent.com/VPerrollaz/immobilier/master/donnees/brute.json\"\n",
    "NEUF = {'Appartement neuf', 'Maison / Villa neuve'}\n",
    "MAISON =  {'Maison / Villa', 'Maison / Villa neuve'}\n",
    "GENRES_VALIDES = {'Appartement', 'Appartement neuf', 'Maison / Villa', 'Maison / Villa neuve'}\n",
    "MOTIF_SURFACE = re.compile(\"^.*?([0-9]+(,[0-9]+)?) m².*$\")\n",
    "MOTIF_PIECES = re.compile(\"^.*?([0-9]+) p.*$\")\n",
    "MOTIF_CHAMBRES = re.compile(\"^.*?([0-9]+) ch.*$\")"
   ]
  },
  {
   "cell_type": "code",
   "execution_count": 5,
   "id": "8b07d111-ab3e-464d-b0dc-ededc1cce1be",
   "metadata": {
    "collapsed": true,
    "jupyter": {
     "outputs_hidden": true
    },
    "tags": []
   },
   "outputs": [
    {
     "data": {
      "text/html": [
       "<div>\n",
       "<style scoped>\n",
       "    .dataframe tbody tr th:only-of-type {\n",
       "        vertical-align: middle;\n",
       "    }\n",
       "\n",
       "    .dataframe tbody tr th {\n",
       "        vertical-align: top;\n",
       "    }\n",
       "\n",
       "    .dataframe thead th {\n",
       "        text-align: right;\n",
       "    }\n",
       "</style>\n",
       "<table border=\"1\" class=\"dataframe\">\n",
       "  <thead>\n",
       "    <tr style=\"text-align: right;\">\n",
       "      <th></th>\n",
       "      <th>desc</th>\n",
       "      <th>lien</th>\n",
       "      <th>neuf</th>\n",
       "      <th>maison</th>\n",
       "      <th>target_prix</th>\n",
       "      <th>surface</th>\n",
       "      <th>pieces</th>\n",
       "      <th>chambres</th>\n",
       "    </tr>\n",
       "  </thead>\n",
       "  <tbody>\n",
       "    <tr>\n",
       "      <th>0</th>\n",
       "      <td>Appartement type 3 - TOURS CATHÉDRALE TOURS CA...</td>\n",
       "      <td>https://www.seloger.com/annonces/achat/apparte...</td>\n",
       "      <td>False</td>\n",
       "      <td>False</td>\n",
       "      <td>374400.0</td>\n",
       "      <td>90.00</td>\n",
       "      <td>3.0</td>\n",
       "      <td>2.0</td>\n",
       "    </tr>\n",
       "    <tr>\n",
       "      <th>1</th>\n",
       "      <td>TOURS HYPERCENTRE - Appartement TOURS HYPERCEN...</td>\n",
       "      <td>https://www.seloger.com/annonces/achat/apparte...</td>\n",
       "      <td>False</td>\n",
       "      <td>False</td>\n",
       "      <td>499200.0</td>\n",
       "      <td>146.27</td>\n",
       "      <td>5.0</td>\n",
       "      <td>4.0</td>\n",
       "    </tr>\n",
       "    <tr>\n",
       "      <th>2</th>\n",
       "      <td>TOURS PRÉBENDES NORD - APPARTEMENT TOURS PRÉBE...</td>\n",
       "      <td>https://www.seloger.com/annonces/achat/apparte...</td>\n",
       "      <td>False</td>\n",
       "      <td>False</td>\n",
       "      <td>499200.0</td>\n",
       "      <td>110.00</td>\n",
       "      <td>5.0</td>\n",
       "      <td>3.0</td>\n",
       "    </tr>\n",
       "    <tr>\n",
       "      <th>3</th>\n",
       "      <td>TOURS PRÉBENDES - PARTICULIER TOURANGEAUX TOUR...</td>\n",
       "      <td>https://www.seloger.com/annonces/achat/maison/...</td>\n",
       "      <td>False</td>\n",
       "      <td>True</td>\n",
       "      <td>508000.0</td>\n",
       "      <td>132.00</td>\n",
       "      <td>6.0</td>\n",
       "      <td>4.0</td>\n",
       "    </tr>\n",
       "    <tr>\n",
       "      <th>4</th>\n",
       "      <td>TOURS STRASBOURG / RABELAIS - Maison TOURS STR...</td>\n",
       "      <td>https://www.seloger.com/annonces/achat-de-pres...</td>\n",
       "      <td>False</td>\n",
       "      <td>True</td>\n",
       "      <td>676000.0</td>\n",
       "      <td>185.00</td>\n",
       "      <td>7.0</td>\n",
       "      <td>5.0</td>\n",
       "    </tr>\n",
       "    <tr>\n",
       "      <th>...</th>\n",
       "      <td>...</td>\n",
       "      <td>...</td>\n",
       "      <td>...</td>\n",
       "      <td>...</td>\n",
       "      <td>...</td>\n",
       "      <td>...</td>\n",
       "      <td>...</td>\n",
       "      <td>...</td>\n",
       "    </tr>\n",
       "    <tr>\n",
       "      <th>1620</th>\n",
       "      <td>Maisons de ville 3 chambres avec jardin ou app...</td>\n",
       "      <td>https://www.selogerneuf.com/annonces/achat/app...</td>\n",
       "      <td>True</td>\n",
       "      <td>False</td>\n",
       "      <td>254900.0</td>\n",
       "      <td>66.30</td>\n",
       "      <td>3.0</td>\n",
       "      <td>NaN</td>\n",
       "    </tr>\n",
       "    <tr>\n",
       "      <th>1621</th>\n",
       "      <td>TOURS - Fontaines, Appartement de type 2 compr...</td>\n",
       "      <td>https://www.seloger.com/annonces/achat/apparte...</td>\n",
       "      <td>False</td>\n",
       "      <td>False</td>\n",
       "      <td>61500.0</td>\n",
       "      <td>42.00</td>\n",
       "      <td>2.0</td>\n",
       "      <td>1.0</td>\n",
       "    </tr>\n",
       "    <tr>\n",
       "      <th>1622</th>\n",
       "      <td>TOURS - Appartement de Type 3 comprenant séjou...</td>\n",
       "      <td>https://www.seloger.com/annonces/achat/apparte...</td>\n",
       "      <td>False</td>\n",
       "      <td>False</td>\n",
       "      <td>108500.0</td>\n",
       "      <td>76.00</td>\n",
       "      <td>3.0</td>\n",
       "      <td>2.0</td>\n",
       "    </tr>\n",
       "    <tr>\n",
       "      <th>1623</th>\n",
       "      <td>Maisons de ville 3 chambres avec jardin ou app...</td>\n",
       "      <td>https://www.selogerneuf.com/annonces/achat/mai...</td>\n",
       "      <td>True</td>\n",
       "      <td>True</td>\n",
       "      <td>320000.0</td>\n",
       "      <td>84.40</td>\n",
       "      <td>4.0</td>\n",
       "      <td>NaN</td>\n",
       "    </tr>\n",
       "    <tr>\n",
       "      <th>1624</th>\n",
       "      <td>Maisons de ville 3 chambres avec jardin ou app...</td>\n",
       "      <td>https://www.selogerneuf.com/annonces/achat/mai...</td>\n",
       "      <td>True</td>\n",
       "      <td>True</td>\n",
       "      <td>320000.0</td>\n",
       "      <td>84.40</td>\n",
       "      <td>4.0</td>\n",
       "      <td>NaN</td>\n",
       "    </tr>\n",
       "  </tbody>\n",
       "</table>\n",
       "<p>1625 rows × 8 columns</p>\n",
       "</div>"
      ],
      "text/plain": [
       "                                                   desc  \\\n",
       "0     Appartement type 3 - TOURS CATHÉDRALE TOURS CA...   \n",
       "1     TOURS HYPERCENTRE - Appartement TOURS HYPERCEN...   \n",
       "2     TOURS PRÉBENDES NORD - APPARTEMENT TOURS PRÉBE...   \n",
       "3     TOURS PRÉBENDES - PARTICULIER TOURANGEAUX TOUR...   \n",
       "4     TOURS STRASBOURG / RABELAIS - Maison TOURS STR...   \n",
       "...                                                 ...   \n",
       "1620  Maisons de ville 3 chambres avec jardin ou app...   \n",
       "1621  TOURS - Fontaines, Appartement de type 2 compr...   \n",
       "1622  TOURS - Appartement de Type 3 comprenant séjou...   \n",
       "1623  Maisons de ville 3 chambres avec jardin ou app...   \n",
       "1624  Maisons de ville 3 chambres avec jardin ou app...   \n",
       "\n",
       "                                                   lien   neuf  maison  \\\n",
       "0     https://www.seloger.com/annonces/achat/apparte...  False   False   \n",
       "1     https://www.seloger.com/annonces/achat/apparte...  False   False   \n",
       "2     https://www.seloger.com/annonces/achat/apparte...  False   False   \n",
       "3     https://www.seloger.com/annonces/achat/maison/...  False    True   \n",
       "4     https://www.seloger.com/annonces/achat-de-pres...  False    True   \n",
       "...                                                 ...    ...     ...   \n",
       "1620  https://www.selogerneuf.com/annonces/achat/app...   True   False   \n",
       "1621  https://www.seloger.com/annonces/achat/apparte...  False   False   \n",
       "1622  https://www.seloger.com/annonces/achat/apparte...  False   False   \n",
       "1623  https://www.selogerneuf.com/annonces/achat/mai...   True    True   \n",
       "1624  https://www.selogerneuf.com/annonces/achat/mai...   True    True   \n",
       "\n",
       "      target_prix  surface  pieces  chambres  \n",
       "0        374400.0    90.00     3.0       2.0  \n",
       "1        499200.0   146.27     5.0       4.0  \n",
       "2        499200.0   110.00     5.0       3.0  \n",
       "3        508000.0   132.00     6.0       4.0  \n",
       "4        676000.0   185.00     7.0       5.0  \n",
       "...           ...      ...     ...       ...  \n",
       "1620     254900.0    66.30     3.0       NaN  \n",
       "1621      61500.0    42.00     2.0       1.0  \n",
       "1622     108500.0    76.00     3.0       2.0  \n",
       "1623     320000.0    84.40     4.0       NaN  \n",
       "1624     320000.0    84.40     4.0       NaN  \n",
       "\n",
       "[1625 rows x 8 columns]"
      ]
     },
     "execution_count": 5,
     "metadata": {},
     "output_type": "execute_result"
    }
   ],
   "source": [
    "# génération du dataframe\n",
    "page = get(ADRESSE)\n",
    "contenu = page.text\n",
    "data = [json.loads(ligne) for ligne in contenu.splitlines()]\n",
    "df = pd.DataFrame(data=data)\n",
    "\n",
    "# gestion id\n",
    "df.drop_duplicates(subset=\"id\", inplace=True)\n",
    "df.drop(columns=\"id\", inplace=True)\n",
    "df.reset_index(inplace=True, drop=True)\n",
    "\n",
    "# gestion genre\n",
    "df.drop(df[~df[\"genre\"].isin(GENRES_VALIDES)].index, inplace=True)\n",
    "df.reset_index(inplace=True, drop=True)\n",
    "df[\"neuf\"] = df[\"genre\"].isin(NEUF)\n",
    "df[\"maison\"] = df[\"genre\"].isin(MAISON)\n",
    "df.drop(columns=\"genre\", inplace=True)\n",
    "df.reset_index(inplace=True, drop=True)\n",
    "\n",
    "# gestion prix\n",
    "df[\"prix_1\"] = df[\"prix\"].str.replace(\"€\", \"\").str.replace(\" \",\"\").str.replace(\"HH\", \"\")\n",
    "df.drop(df[df[\"prix_1\"] == \"\"].index, inplace=True)\n",
    "df[\"target_prix\"] = df[\"prix_1\"].astype(float)\n",
    "df.drop(columns=\"prix_1\", inplace=True)\n",
    "df.drop(columns=\"prix\", inplace=True)\n",
    "df.reset_index(inplace=True, drop=True)\n",
    "\n",
    "# gestion pcs\n",
    "df.drop(df[~df[\"pcs\"].str.match(MOTIF_SURFACE)].index, inplace=True)\n",
    "df.reset_index(inplace=True, drop=True)\n",
    "df[\"surface\"] = df[\"pcs\"].str.extract(MOTIF_SURFACE)[0].str.replace(\",\", \".\").astype(float)\n",
    "df.reset_index(inplace=True, drop=True)\n",
    "df[\"pieces\"] = df[\"pcs\"].str.extract(MOTIF_PIECES).astype(float)\n",
    "df[\"chambres\"] = df[\"pcs\"].str.extract(MOTIF_CHAMBRES).astype(float)\n",
    "df.drop(columns=\"pcs\", inplace=True)\n",
    "df"
   ]
  },
  {
   "cell_type": "code",
   "execution_count": 7,
   "id": "bb1c1349-65ae-4b70-b3f3-08bef187642f",
   "metadata": {
    "tags": []
   },
   "outputs": [],
   "source": [
    "X = df[[\"neuf\", \"maison\", \"pieces\", \"surface\", \"chambres\"]].astype(float).values\n",
    "y = df[\"target_prix\"].values\n",
    "X_tr, X_te, y_tr, y_te = train_test_split(X, y, test_size=0.2)"
   ]
  },
  {
   "cell_type": "code",
   "execution_count": 11,
   "id": "8256e7e4-e531-4ea0-8a5b-df720bf6da85",
   "metadata": {
    "tags": []
   },
   "outputs": [],
   "source": [
    "def affichage(modele):\n",
    "    indice_meilleur = modele.cv_results_[\"rank_test_score\"].argmin()\n",
    "    print(\"Paramètres gagnants: \", modele.cv_results_[\"params\"][indice_meilleur])\n",
    "    print(\"Classement pour confirmation: \", modele.cv_results_[\"rank_test_score\"][indice_meilleur])\n",
    "    print(\"Score: \", modele.cv_results_[\"mean_test_score\"][indice_meilleur])\n",
    "    print(\"Déviation standard: \", modele.cv_results_[\"std_test_score\"][indice_meilleur])"
   ]
  },
  {
   "cell_type": "code",
   "execution_count": 12,
   "id": "fcbaa112-d075-4b42-b87c-3dba1cd76eba",
   "metadata": {
    "tags": []
   },
   "outputs": [
    {
     "name": "stdout",
     "output_type": "stream",
     "text": [
      "Paramètres gagnants:  {'entrainement__alpha': 0.015625, 'imputation__strategy': 'mean'}\n",
      "Classement pour confirmation:  1\n",
      "Score:  0.6655342855820032\n",
      "Déviation standard:  0.09186527011337503\n"
     ]
    }
   ],
   "source": [
    "%%time\n",
    "# entrainement ridge\n",
    "ri = Pipeline(\n",
    "    [\n",
    "        (\"imputation\", SimpleImputer()),\n",
    "        (\"entrainement\", Ridge()),\n",
    "    ]\n",
    ")\n",
    "gr = GridSearchCV(\n",
    "    estimator=ri,\n",
    "    param_grid={\n",
    "        \"imputation__strategy\": [\"mean\", \"median\", \"most_frequent\"],\n",
    "        \"entrainement__alpha\": [2  ** p for p in range(-6, 7)],\n",
    "    }\n",
    ")\n",
    "gr.fit(X_tr, y_tr)\n",
    "affichage(gr)"
   ]
  },
  {
   "cell_type": "code",
   "execution_count": 13,
   "id": "fd3446bc-9040-46d6-8227-cf7f20a57a47",
   "metadata": {
    "tags": []
   },
   "outputs": [
    {
     "name": "stdout",
     "output_type": "stream",
     "text": [
      "Paramètres gagnants:  {'entrainement__n_neighbors': 12, 'imputation__strategy': 'median'}\n",
      "Classement pour confirmation:  1\n",
      "Score:  0.7319512650907963\n",
      "Déviation standard:  0.05357288058074905\n"
     ]
    }
   ],
   "source": [
    "%%time\n",
    "# entrainement kneighbors\n",
    "knr = Pipeline(\n",
    "    [\n",
    "        (\"imputation\", SimpleImputer()),\n",
    "        (\"entrainement\", KNeighborsRegressor()),\n",
    "    ]\n",
    ")\n",
    "gr = GridSearchCV(\n",
    "    estimator=knr,\n",
    "    param_grid={\n",
    "        \"imputation__strategy\": [\"mean\", \"median\", \"most_frequent\"],\n",
    "        \"entrainement__n_neighbors\": range(2, 15),\n",
    "    }\n",
    ")\n",
    "gr.fit(X_tr, y_tr)\n",
    "affichage(gr)"
   ]
  },
  {
   "cell_type": "code",
   "execution_count": 24,
   "id": "454f63fc-5fd5-43d5-ae09-fa7c398ae0b9",
   "metadata": {
    "tags": []
   },
   "outputs": [
    {
     "name": "stdout",
     "output_type": "stream",
     "text": [
      "Paramètres gagnants:  {'entrainement__C': 65536.0, 'entrainement__epsilon': 0.1, 'imputation__strategy': 'median'}\n",
      "Classement pour confirmation:  1\n",
      "Score:  0.670975298741707\n",
      "Déviation standard:  0.07033323003262947\n",
      "CPU times: total: 49.2 s\n",
      "Wall time: 49.2 s\n"
     ]
    }
   ],
   "source": [
    "%%time\n",
    "# support vecteur\n",
    "svr = Pipeline(\n",
    "    [\n",
    "        (\"imputation\", SimpleImputer()),\n",
    "        (\"echelle\", StandardScaler()),\n",
    "        (\"entrainement\", SVR()),\n",
    "    ]\n",
    ")\n",
    "gr = GridSearchCV(\n",
    "    estimator=svr,\n",
    "    param_grid={\n",
    "        \"imputation__strategy\": [\"mean\", \"median\", \"most_frequent\"],\n",
    "        \"entrainement__C\": np.logspace(-4, 16, 15, base=2),\n",
    "        \"entrainement__epsilon\": [0.1, 0.4, 0.7],\n",
    "    }\n",
    ")\n",
    "gr.fit(X_tr, y_tr)\n",
    "affichage(gr)"
   ]
  },
  {
   "cell_type": "code",
   "execution_count": 42,
   "id": "aefd36cd-d89d-43ba-a726-93c6323275ec",
   "metadata": {
    "tags": []
   },
   "outputs": [
    {
     "name": "stdout",
     "output_type": "stream",
     "text": [
      "mean <class 'sklearn.preprocessing._data.MinMaxScaler'> 304218.64113668306 0.5269195923905998\n",
      "mean <class 'sklearn.preprocessing._data.StandardScaler'> 57653.85855807888 0.5655105924060114\n",
      "median <class 'sklearn.preprocessing._data.MinMaxScaler'> 293306.0627049666 0.5258126465636141\n",
      "median <class 'sklearn.preprocessing._data.StandardScaler'> 58591.283068386474 0.5652880046372333\n",
      "most_frequent <class 'sklearn.preprocessing._data.MinMaxScaler'> 293306.0627049666 0.5258126465636141\n",
      "most_frequent <class 'sklearn.preprocessing._data.StandardScaler'> 58591.283068386474 0.5652880046372333\n"
     ]
    }
   ],
   "source": [
    "%%time\n",
    "for strategy in [\"mean\", \"median\", \"most_frequent\"]:\n",
    "    for echelle in [MinMaxScaler, StandardScaler]:\n",
    "        def a_minimiser(c: float) -> float:\n",
    "            svr = Pipeline(\n",
    "                [\n",
    "                    (\"imputation\", SimpleImputer(strategy=strategy)),\n",
    "                    (\"echelle\", echelle()),\n",
    "                    (\"entrainement\", SVR(C=c)),\n",
    "                ]\n",
    "            )\n",
    "            return -cross_val_score(svr, X_tr, y_tr).mean()\n",
    "        resultat = minimize_scalar(fun=a_minimiser, bounds=(1, 1000000), method=\"bounded\")\n",
    "        print(strategy, str(echelle), resultat.x, -resultat.fun)\n",
    "            \n"
   ]
  },
  {
   "cell_type": "code",
   "execution_count": 49,
   "id": "6c286616-9645-4d08-8b91-9aef27a97274",
   "metadata": {
    "tags": []
   },
   "outputs": [
    {
     "name": "stdout",
     "output_type": "stream",
     "text": [
      "mean <class 'sklearn.preprocessing._data.MinMaxScaler'> 3.603514518681985 0.48540884717048927\n",
      "mean <class 'sklearn.preprocessing._data.StandardScaler'> 5.350086862523794 0.5108471815398209\n",
      "median <class 'sklearn.preprocessing._data.MinMaxScaler'> 3.9822511763765593 0.4873436196405338\n",
      "median <class 'sklearn.preprocessing._data.StandardScaler'> 5.283561331066544 0.5142652543338377\n",
      "most_frequent <class 'sklearn.preprocessing._data.MinMaxScaler'> 3.9822511763765593 0.4873436196405338\n",
      "most_frequent <class 'sklearn.preprocessing._data.StandardScaler'> 5.283561331066544 0.5142652543338377\n",
      "CPU times: total: 12 s\n",
      "Wall time: 12 s\n"
     ]
    }
   ],
   "source": [
    "%%time\n",
    "\n",
    "scale = MinMaxScaler()\n",
    "print(y_tr.shape)\n",
    "y_trr = scale.fit_transform(y_tr.reshape(-1, 1)).reshape(-1)\n",
    "\n",
    "for strategy in [\"mean\", \"median\", \"most_frequent\"]:\n",
    "    for echelle in [MinMaxScaler, StandardScaler]:\n",
    "        def a_minimiser(c: float) -> float:\n",
    "            svr = Pipeline(\n",
    "                [\n",
    "                    (\"imputation\", SimpleImputer(strategy=strategy)),\n",
    "                    (\"echelle\", echelle()),\n",
    "                    (\"entrainement\", SVR(C=c)),\n",
    "                ]\n",
    "            )\n",
    "            return -cross_val_score(svr, X_tr, y_trr).mean()\n",
    "        resultat = minimize_scalar(fun=a_minimiser, bounds=(0.1, 10), method=\"bounded\")\n",
    "        print(strategy, str(echelle), resultat.x, -resultat.fun)"
   ]
  },
  {
   "cell_type": "code",
   "execution_count": 21,
   "id": "d46aae67-4827-4267-9e2a-d79fd9e4df46",
   "metadata": {
    "tags": []
   },
   "outputs": [
    {
     "name": "stdout",
     "output_type": "stream",
     "text": [
      "Paramètres gagnants:  {'entrainement__max_features': None, 'entrainement__n_estimators': 130, 'imputation__strategy': 'most_frequent'}\n",
      "Classement pour confirmation:  1\n",
      "Score:  0.680861765751208\n",
      "Déviation standard:  0.028454032436913638\n",
      "CPU times: total: 59.2 s\n",
      "Wall time: 59.2 s\n"
     ]
    }
   ],
   "source": [
    "%%time\n",
    "# random forest\n",
    "rfr= Pipeline(\n",
    "    [\n",
    "        (\"imputation\", SimpleImputer()),\n",
    "        (\"entrainement\", RandomForestRegressor()),\n",
    "    ]\n",
    ")\n",
    "gr = GridSearchCV(\n",
    "    estimator=rfr,\n",
    "    param_grid={\n",
    "        \"imputation__strategy\": [\"mean\", \"median\", \"most_frequent\"],\n",
    "        \"entrainement__n_estimators\": range(50, 200, 10),\n",
    "        \"entrainement__max_features\": [None],\n",
    "    }\n",
    ")\n",
    "gr.fit(X_tr, y_tr)\n",
    "affichage(gr)"
   ]
  },
  {
   "cell_type": "code",
   "execution_count": 53,
   "id": "f99eed15-e516-42aa-99c6-1274a0443ab1",
   "metadata": {
    "tags": []
   },
   "outputs": [
    {
     "name": "stdout",
     "output_type": "stream",
     "text": [
      "Paramètres gagnants:  {'entrainement__learning_rate': 0.01, 'entrainement__n_estimators': 200, 'imputation__strategy': 'most_frequent'}\n",
      "Classement pour confirmation:  1\n",
      "Score:  0.7002560409931854\n",
      "Déviation standard:  0.06496757695108635\n",
      "CPU times: total: 33.1 s\n",
      "Wall time: 33.1 s\n"
     ]
    }
   ],
   "source": [
    "%%time\n",
    "# gradient boosting\n",
    "gbr = Pipeline(\n",
    "    [\n",
    "        (\"imputation\", SimpleImputer()),\n",
    "        (\"entrainement\", GradientBoostingRegressor()),\n",
    "    ]\n",
    ")\n",
    "gr = GridSearchCV(\n",
    "    estimator=gbr,\n",
    "    param_grid={\n",
    "        \"imputation__strategy\": [\"mean\", \"median\", \"most_frequent\"],\n",
    "        \"entrainement__learning_rate\": (0.005, 0.01, 0.1, 0.5),\n",
    "        \"entrainement__n_estimators\": (50, 100, 150, 200, 400),\n",
    "    }\n",
    ")\n",
    "gr.fit(X_tr, y_tr)\n",
    "affichage(gr)"
   ]
  },
  {
   "cell_type": "markdown",
   "id": "921bbb3e-6b8b-4c03-9455-a070335496b4",
   "metadata": {
    "tags": []
   },
   "source": [
    "Code originale partant dans le décor pour les réseaux de neurones\n",
    "\n",
    "```python\n",
    "%%time\n",
    "# réseaux de neurones\n",
    "mlp  = Pipeline(\n",
    "    [\n",
    "        (\"imputation\", SimpleImputer()),\n",
    "        (\"echelle\", MinMaxScaler()),\n",
    "        (\"entrainement\", MLPRegressor()),\n",
    "    ]\n",
    ")\n",
    "gr = GridSearchCV(\n",
    "    estimator=mlp,\n",
    "    param_grid={\n",
    "        \"imputation__strategy\": [\"mean\", \"median\", \"most_frequent\"],\n",
    "        \"entrainement__hidden_layer_sizes\": [(100,), (150,)],\n",
    "        \"entrainement__max_iter\": [1000],\n",
    "    }\n",
    ")\n",
    "gr.fit(X_tr, y_tr)\n",
    "affichage(gr)\n",
    "```"
   ]
  },
  {
   "cell_type": "code",
   "execution_count": 61,
   "id": "9e0a87d7-f475-4049-8bac-2cc6b40b7ad2",
   "metadata": {
    "tags": []
   },
   "outputs": [
    {
     "name": "stdout",
     "output_type": "stream",
     "text": [
      "Paramètres gagnants:  {'entrainement__hidden_layer_sizes': (100,), 'entrainement__max_iter': 1000, 'imputation__strategy': 'most_frequent'}\n",
      "Classement pour confirmation:  1\n",
      "Score:  0.701194732475153\n",
      "Déviation standard:  0.036041026836649094\n",
      "CPU times: total: 28.5 s\n",
      "Wall time: 4.75 s\n"
     ]
    }
   ],
   "source": [
    "%%time\n",
    "# réseaux de neurones\n",
    "# On fait un scaling sur la sortie aussi\n",
    "\n",
    "scale = MinMaxScaler()\n",
    "y_trr = scale.fit_transform(y_tr.reshape(-1, 1)).reshape(-1)\n",
    "\n",
    "mlp  = Pipeline(\n",
    "    [\n",
    "        (\"imputation\", SimpleImputer()),\n",
    "        (\"echelle\", MinMaxScaler()),\n",
    "        (\"entrainement\", MLPRegressor()),\n",
    "    ]\n",
    ")\n",
    "gr = GridSearchCV(\n",
    "    estimator=mlp,\n",
    "    param_grid={\n",
    "        \"imputation__strategy\": [\"mean\", \"median\", \"most_frequent\"],\n",
    "        \"entrainement__hidden_layer_sizes\": [(100,), (150,), (300,), (500,), (50, 50)],\n",
    "        \"entrainement__max_iter\": [1000],\n",
    "    }\n",
    ")\n",
    "gr.fit(X_tr, y_trr)\n",
    "affichage(gr)"
   ]
  },
  {
   "cell_type": "markdown",
   "id": "d821d7a9-4f0c-44c6-b7d3-dbc9aca9b5ae",
   "metadata": {},
   "source": [
    "# Conclusion\n",
    "\n",
    "On aurait sans doute dûe faire un scaling sur le dataframe de la colonne des prix.\n",
    "L'ordre de grandeur entre les entée et sorties étant beaucoup trop important."
   ]
  },
  {
   "cell_type": "code",
   "execution_count": 62,
   "id": "597c1a09-340b-45ea-bc4e-bff13bd6a805",
   "metadata": {
    "tags": []
   },
   "outputs": [
    {
     "data": {
      "text/html": [
       "<style>#sk-container-id-2 {color: black;background-color: white;}#sk-container-id-2 pre{padding: 0;}#sk-container-id-2 div.sk-toggleable {background-color: white;}#sk-container-id-2 label.sk-toggleable__label {cursor: pointer;display: block;width: 100%;margin-bottom: 0;padding: 0.3em;box-sizing: border-box;text-align: center;}#sk-container-id-2 label.sk-toggleable__label-arrow:before {content: \"▸\";float: left;margin-right: 0.25em;color: #696969;}#sk-container-id-2 label.sk-toggleable__label-arrow:hover:before {color: black;}#sk-container-id-2 div.sk-estimator:hover label.sk-toggleable__label-arrow:before {color: black;}#sk-container-id-2 div.sk-toggleable__content {max-height: 0;max-width: 0;overflow: hidden;text-align: left;background-color: #f0f8ff;}#sk-container-id-2 div.sk-toggleable__content pre {margin: 0.2em;color: black;border-radius: 0.25em;background-color: #f0f8ff;}#sk-container-id-2 input.sk-toggleable__control:checked~div.sk-toggleable__content {max-height: 200px;max-width: 100%;overflow: auto;}#sk-container-id-2 input.sk-toggleable__control:checked~label.sk-toggleable__label-arrow:before {content: \"▾\";}#sk-container-id-2 div.sk-estimator input.sk-toggleable__control:checked~label.sk-toggleable__label {background-color: #d4ebff;}#sk-container-id-2 div.sk-label input.sk-toggleable__control:checked~label.sk-toggleable__label {background-color: #d4ebff;}#sk-container-id-2 input.sk-hidden--visually {border: 0;clip: rect(1px 1px 1px 1px);clip: rect(1px, 1px, 1px, 1px);height: 1px;margin: -1px;overflow: hidden;padding: 0;position: absolute;width: 1px;}#sk-container-id-2 div.sk-estimator {font-family: monospace;background-color: #f0f8ff;border: 1px dotted black;border-radius: 0.25em;box-sizing: border-box;margin-bottom: 0.5em;}#sk-container-id-2 div.sk-estimator:hover {background-color: #d4ebff;}#sk-container-id-2 div.sk-parallel-item::after {content: \"\";width: 100%;border-bottom: 1px solid gray;flex-grow: 1;}#sk-container-id-2 div.sk-label:hover label.sk-toggleable__label {background-color: #d4ebff;}#sk-container-id-2 div.sk-serial::before {content: \"\";position: absolute;border-left: 1px solid gray;box-sizing: border-box;top: 0;bottom: 0;left: 50%;z-index: 0;}#sk-container-id-2 div.sk-serial {display: flex;flex-direction: column;align-items: center;background-color: white;padding-right: 0.2em;padding-left: 0.2em;position: relative;}#sk-container-id-2 div.sk-item {position: relative;z-index: 1;}#sk-container-id-2 div.sk-parallel {display: flex;align-items: stretch;justify-content: center;background-color: white;position: relative;}#sk-container-id-2 div.sk-item::before, #sk-container-id-2 div.sk-parallel-item::before {content: \"\";position: absolute;border-left: 1px solid gray;box-sizing: border-box;top: 0;bottom: 0;left: 50%;z-index: -1;}#sk-container-id-2 div.sk-parallel-item {display: flex;flex-direction: column;z-index: 1;position: relative;background-color: white;}#sk-container-id-2 div.sk-parallel-item:first-child::after {align-self: flex-end;width: 50%;}#sk-container-id-2 div.sk-parallel-item:last-child::after {align-self: flex-start;width: 50%;}#sk-container-id-2 div.sk-parallel-item:only-child::after {width: 0;}#sk-container-id-2 div.sk-dashed-wrapped {border: 1px dashed gray;margin: 0 0.4em 0.5em 0.4em;box-sizing: border-box;padding-bottom: 0.4em;background-color: white;}#sk-container-id-2 div.sk-label label {font-family: monospace;font-weight: bold;display: inline-block;line-height: 1.2em;}#sk-container-id-2 div.sk-label-container {text-align: center;}#sk-container-id-2 div.sk-container {/* jupyter's `normalize.less` sets `[hidden] { display: none; }` but bootstrap.min.css set `[hidden] { display: none !important; }` so we also need the `!important` here to be able to override the default hidden behavior on the sphinx rendered scikit-learn.org. See: https://github.com/scikit-learn/scikit-learn/issues/21755 */display: inline-block !important;position: relative;}#sk-container-id-2 div.sk-text-repr-fallback {display: none;}</style><div id=\"sk-container-id-2\" class=\"sk-top-container\"><div class=\"sk-text-repr-fallback\"><pre>Pipeline(steps=[(&#x27;imputation&#x27;, SimpleImputer(strategy=&#x27;median&#x27;)),\n",
       "                (&#x27;entrainement&#x27;, KNeighborsRegressor(n_neighbors=12))])</pre><b>In a Jupyter environment, please rerun this cell to show the HTML representation or trust the notebook. <br />On GitHub, the HTML representation is unable to render, please try loading this page with nbviewer.org.</b></div><div class=\"sk-container\" hidden><div class=\"sk-item sk-dashed-wrapped\"><div class=\"sk-label-container\"><div class=\"sk-label sk-toggleable\"><input class=\"sk-toggleable__control sk-hidden--visually\" id=\"sk-estimator-id-6\" type=\"checkbox\" ><label for=\"sk-estimator-id-6\" class=\"sk-toggleable__label sk-toggleable__label-arrow\">Pipeline</label><div class=\"sk-toggleable__content\"><pre>Pipeline(steps=[(&#x27;imputation&#x27;, SimpleImputer(strategy=&#x27;median&#x27;)),\n",
       "                (&#x27;entrainement&#x27;, KNeighborsRegressor(n_neighbors=12))])</pre></div></div></div><div class=\"sk-serial\"><div class=\"sk-item\"><div class=\"sk-estimator sk-toggleable\"><input class=\"sk-toggleable__control sk-hidden--visually\" id=\"sk-estimator-id-7\" type=\"checkbox\" ><label for=\"sk-estimator-id-7\" class=\"sk-toggleable__label sk-toggleable__label-arrow\">SimpleImputer</label><div class=\"sk-toggleable__content\"><pre>SimpleImputer(strategy=&#x27;median&#x27;)</pre></div></div></div><div class=\"sk-item\"><div class=\"sk-estimator sk-toggleable\"><input class=\"sk-toggleable__control sk-hidden--visually\" id=\"sk-estimator-id-8\" type=\"checkbox\" ><label for=\"sk-estimator-id-8\" class=\"sk-toggleable__label sk-toggleable__label-arrow\">KNeighborsRegressor</label><div class=\"sk-toggleable__content\"><pre>KNeighborsRegressor(n_neighbors=12)</pre></div></div></div></div></div></div></div>"
      ],
      "text/plain": [
       "Pipeline(steps=[('imputation', SimpleImputer(strategy='median')),\n",
       "                ('entrainement', KNeighborsRegressor(n_neighbors=12))])"
      ]
     },
     "execution_count": 62,
     "metadata": {},
     "output_type": "execute_result"
    }
   ],
   "source": [
    "knr = Pipeline(\n",
    "    [\n",
    "        (\"imputation\", SimpleImputer(strategy=\"median\")),\n",
    "        (\"entrainement\", KNeighborsRegressor(n_neighbors=12)),\n",
    "    ]\n",
    ")\n",
    "knr.fit(X_tr, y_tr)\n"
   ]
  },
  {
   "cell_type": "code",
   "execution_count": 63,
   "id": "9cd3f57e-b72b-4a9d-be6c-644fa520a2da",
   "metadata": {
    "tags": []
   },
   "outputs": [
    {
     "name": "stdout",
     "output_type": "stream",
     "text": [
      "0.7857876579289715\n"
     ]
    }
   ],
   "source": [
    "print(knr.score(X_tr, y_tr))"
   ]
  },
  {
   "cell_type": "code",
   "execution_count": 64,
   "id": "0448dfe4-0ad7-4284-a9e0-df6931cf6acc",
   "metadata": {
    "tags": []
   },
   "outputs": [
    {
     "name": "stdout",
     "output_type": "stream",
     "text": [
      "0.44590981537599805\n"
     ]
    }
   ],
   "source": [
    "print(knr.score(X_te, y_te))"
   ]
  },
  {
   "cell_type": "markdown",
   "id": "7d304297-fe49-4f53-b3a6-17f33d0922a5",
   "metadata": {},
   "source": [
    "Malgré la cross validation on a une grosse déviation entre les deux scores.\n",
    "Le prédicteur est en surapprentissage.\n",
    "\n",
    "Il faut repartir du début, ou pourrait ajuster la taille respective des datasets d'entrainement et de test.\n",
    "\n",
    "On pourrait aussi essayer d'ajouter une nouvelle variable explicative `quartier`, en utilisant les colonnes `desc` et `lien`."
   ]
  }
 ],
 "metadata": {
  "kernelspec": {
   "display_name": "Python 3 (ipykernel)",
   "language": "python",
   "name": "python3"
  },
  "language_info": {
   "codemirror_mode": {
    "name": "ipython",
    "version": 3
   },
   "file_extension": ".py",
   "mimetype": "text/x-python",
   "name": "python",
   "nbconvert_exporter": "python",
   "pygments_lexer": "ipython3",
   "version": "3.11.5"
  }
 },
 "nbformat": 4,
 "nbformat_minor": 5
}
