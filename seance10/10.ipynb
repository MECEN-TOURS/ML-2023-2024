{
 "cells": [
  {
   "cell_type": "markdown",
   "id": "7868c717-7aee-42e7-92f6-7c6614d162ce",
   "metadata": {},
   "source": [
    "# Condensé de la séance précédente"
   ]
  },
  {
   "cell_type": "code",
   "execution_count": 1,
   "id": "94b31d46-2473-4397-a7a6-c72a81303e8c",
   "metadata": {},
   "outputs": [],
   "source": [
    "# imports\n",
    "from requests import get\n",
    "import pandas as pd\n",
    "import json\n",
    "import re"
   ]
  },
  {
   "cell_type": "code",
   "execution_count": 3,
   "id": "e2801485-7de0-4067-b2aa-0a8650540d7b",
   "metadata": {},
   "outputs": [],
   "source": [
    "# TOUTES les constantes globales\n",
    "ADRESSE = \"https://raw.githubusercontent.com/VPerrollaz/immobilier/master/donnees/brute.json\"\n",
    "NEUF = {'Appartement neuf', 'Maison / Villa neuve'}\n",
    "MAISON =  {'Maison / Villa', 'Maison / Villa neuve'}\n",
    "GENRES_VALIDES = {'Appartement', 'Appartement neuf', 'Maison / Villa', 'Maison / Villa neuve'}\n",
    "MOTIF_SURFACE = re.compile(\"^.*?([0-9]+(,[0-9]+)?) m².*$\")"
   ]
  },
  {
   "cell_type": "markdown",
   "id": "a2db3262-49c9-44ae-8475-4085bbd856f6",
   "metadata": {},
   "source": [
    "**REMARQUE** on va documenter avec des commentaires.\n",
    "De fait, on se rend compte qu'il serait préférable de transformer chaque étape en une fonction qui prendrait comme nom le commentaire."
   ]
  },
  {
   "cell_type": "code",
   "execution_count": 5,
   "id": "931c84e8-ce8f-4f9f-82d1-541064f9d423",
   "metadata": {},
   "outputs": [
    {
     "data": {
      "text/html": [
       "<div>\n",
       "<style scoped>\n",
       "    .dataframe tbody tr th:only-of-type {\n",
       "        vertical-align: middle;\n",
       "    }\n",
       "\n",
       "    .dataframe tbody tr th {\n",
       "        vertical-align: top;\n",
       "    }\n",
       "\n",
       "    .dataframe thead th {\n",
       "        text-align: right;\n",
       "    }\n",
       "</style>\n",
       "<table border=\"1\" class=\"dataframe\">\n",
       "  <thead>\n",
       "    <tr style=\"text-align: right;\">\n",
       "      <th></th>\n",
       "      <th>pcs</th>\n",
       "      <th>desc</th>\n",
       "      <th>lien</th>\n",
       "      <th>neuf</th>\n",
       "      <th>maison</th>\n",
       "      <th>target_prix</th>\n",
       "      <th>surface</th>\n",
       "    </tr>\n",
       "  </thead>\n",
       "  <tbody>\n",
       "    <tr>\n",
       "      <th>0</th>\n",
       "      <td>3 p 2 ch 90 m²</td>\n",
       "      <td>Appartement type 3 - TOURS CATHÉDRALE TOURS CA...</td>\n",
       "      <td>https://www.seloger.com/annonces/achat/apparte...</td>\n",
       "      <td>False</td>\n",
       "      <td>False</td>\n",
       "      <td>374400.0</td>\n",
       "      <td>90</td>\n",
       "    </tr>\n",
       "    <tr>\n",
       "      <th>1</th>\n",
       "      <td>5 p 4 ch 146,27 m²</td>\n",
       "      <td>TOURS HYPERCENTRE - Appartement TOURS HYPERCEN...</td>\n",
       "      <td>https://www.seloger.com/annonces/achat/apparte...</td>\n",
       "      <td>False</td>\n",
       "      <td>False</td>\n",
       "      <td>499200.0</td>\n",
       "      <td>146,27</td>\n",
       "    </tr>\n",
       "    <tr>\n",
       "      <th>2</th>\n",
       "      <td>5 p 3 ch 110 m²</td>\n",
       "      <td>TOURS PRÉBENDES NORD - APPARTEMENT TOURS PRÉBE...</td>\n",
       "      <td>https://www.seloger.com/annonces/achat/apparte...</td>\n",
       "      <td>False</td>\n",
       "      <td>False</td>\n",
       "      <td>499200.0</td>\n",
       "      <td>110</td>\n",
       "    </tr>\n",
       "    <tr>\n",
       "      <th>3</th>\n",
       "      <td>6 p 4 ch 132 m²</td>\n",
       "      <td>TOURS PRÉBENDES - PARTICULIER TOURANGEAUX TOUR...</td>\n",
       "      <td>https://www.seloger.com/annonces/achat/maison/...</td>\n",
       "      <td>False</td>\n",
       "      <td>True</td>\n",
       "      <td>508000.0</td>\n",
       "      <td>132</td>\n",
       "    </tr>\n",
       "    <tr>\n",
       "      <th>4</th>\n",
       "      <td>7 p 5 ch 185 m²</td>\n",
       "      <td>TOURS STRASBOURG / RABELAIS - Maison TOURS STR...</td>\n",
       "      <td>https://www.seloger.com/annonces/achat-de-pres...</td>\n",
       "      <td>False</td>\n",
       "      <td>True</td>\n",
       "      <td>676000.0</td>\n",
       "      <td>185</td>\n",
       "    </tr>\n",
       "    <tr>\n",
       "      <th>...</th>\n",
       "      <td>...</td>\n",
       "      <td>...</td>\n",
       "      <td>...</td>\n",
       "      <td>...</td>\n",
       "      <td>...</td>\n",
       "      <td>...</td>\n",
       "      <td>...</td>\n",
       "    </tr>\n",
       "    <tr>\n",
       "      <th>1620</th>\n",
       "      <td>3 p 66,3 m²</td>\n",
       "      <td>Maisons de ville 3 chambres avec jardin ou app...</td>\n",
       "      <td>https://www.selogerneuf.com/annonces/achat/app...</td>\n",
       "      <td>True</td>\n",
       "      <td>False</td>\n",
       "      <td>254900.0</td>\n",
       "      <td>66,3</td>\n",
       "    </tr>\n",
       "    <tr>\n",
       "      <th>1621</th>\n",
       "      <td>2 p 1 ch 42 m²</td>\n",
       "      <td>TOURS - Fontaines, Appartement de type 2 compr...</td>\n",
       "      <td>https://www.seloger.com/annonces/achat/apparte...</td>\n",
       "      <td>False</td>\n",
       "      <td>False</td>\n",
       "      <td>61500.0</td>\n",
       "      <td>42</td>\n",
       "    </tr>\n",
       "    <tr>\n",
       "      <th>1622</th>\n",
       "      <td>3 p 2 ch 76 m²</td>\n",
       "      <td>TOURS - Appartement de Type 3 comprenant séjou...</td>\n",
       "      <td>https://www.seloger.com/annonces/achat/apparte...</td>\n",
       "      <td>False</td>\n",
       "      <td>False</td>\n",
       "      <td>108500.0</td>\n",
       "      <td>76</td>\n",
       "    </tr>\n",
       "    <tr>\n",
       "      <th>1623</th>\n",
       "      <td>4 p 84,4 m²</td>\n",
       "      <td>Maisons de ville 3 chambres avec jardin ou app...</td>\n",
       "      <td>https://www.selogerneuf.com/annonces/achat/mai...</td>\n",
       "      <td>True</td>\n",
       "      <td>True</td>\n",
       "      <td>320000.0</td>\n",
       "      <td>84,4</td>\n",
       "    </tr>\n",
       "    <tr>\n",
       "      <th>1624</th>\n",
       "      <td>4 p 84,4 m²</td>\n",
       "      <td>Maisons de ville 3 chambres avec jardin ou app...</td>\n",
       "      <td>https://www.selogerneuf.com/annonces/achat/mai...</td>\n",
       "      <td>True</td>\n",
       "      <td>True</td>\n",
       "      <td>320000.0</td>\n",
       "      <td>84,4</td>\n",
       "    </tr>\n",
       "  </tbody>\n",
       "</table>\n",
       "<p>1625 rows × 7 columns</p>\n",
       "</div>"
      ],
      "text/plain": [
       "                     pcs                                               desc  \\\n",
       "0         3 p 2 ch 90 m²  Appartement type 3 - TOURS CATHÉDRALE TOURS CA...   \n",
       "1     5 p 4 ch 146,27 m²  TOURS HYPERCENTRE - Appartement TOURS HYPERCEN...   \n",
       "2        5 p 3 ch 110 m²  TOURS PRÉBENDES NORD - APPARTEMENT TOURS PRÉBE...   \n",
       "3        6 p 4 ch 132 m²  TOURS PRÉBENDES - PARTICULIER TOURANGEAUX TOUR...   \n",
       "4        7 p 5 ch 185 m²  TOURS STRASBOURG / RABELAIS - Maison TOURS STR...   \n",
       "...                  ...                                                ...   \n",
       "1620         3 p 66,3 m²  Maisons de ville 3 chambres avec jardin ou app...   \n",
       "1621      2 p 1 ch 42 m²  TOURS - Fontaines, Appartement de type 2 compr...   \n",
       "1622      3 p 2 ch 76 m²  TOURS - Appartement de Type 3 comprenant séjou...   \n",
       "1623         4 p 84,4 m²  Maisons de ville 3 chambres avec jardin ou app...   \n",
       "1624         4 p 84,4 m²  Maisons de ville 3 chambres avec jardin ou app...   \n",
       "\n",
       "                                                   lien   neuf  maison  \\\n",
       "0     https://www.seloger.com/annonces/achat/apparte...  False   False   \n",
       "1     https://www.seloger.com/annonces/achat/apparte...  False   False   \n",
       "2     https://www.seloger.com/annonces/achat/apparte...  False   False   \n",
       "3     https://www.seloger.com/annonces/achat/maison/...  False    True   \n",
       "4     https://www.seloger.com/annonces/achat-de-pres...  False    True   \n",
       "...                                                 ...    ...     ...   \n",
       "1620  https://www.selogerneuf.com/annonces/achat/app...   True   False   \n",
       "1621  https://www.seloger.com/annonces/achat/apparte...  False   False   \n",
       "1622  https://www.seloger.com/annonces/achat/apparte...  False   False   \n",
       "1623  https://www.selogerneuf.com/annonces/achat/mai...   True    True   \n",
       "1624  https://www.selogerneuf.com/annonces/achat/mai...   True    True   \n",
       "\n",
       "      target_prix surface  \n",
       "0        374400.0      90  \n",
       "1        499200.0  146,27  \n",
       "2        499200.0     110  \n",
       "3        508000.0     132  \n",
       "4        676000.0     185  \n",
       "...           ...     ...  \n",
       "1620     254900.0    66,3  \n",
       "1621      61500.0      42  \n",
       "1622     108500.0      76  \n",
       "1623     320000.0    84,4  \n",
       "1624     320000.0    84,4  \n",
       "\n",
       "[1625 rows x 7 columns]"
      ]
     },
     "execution_count": 5,
     "metadata": {},
     "output_type": "execute_result"
    }
   ],
   "source": [
    "# génération du dataframe\n",
    "page = get(ADRESSE)\n",
    "contenu = page.text\n",
    "data = [json.loads(ligne) for ligne in contenu.splitlines()]\n",
    "df = pd.DataFrame(data=data)\n",
    "\n",
    "# gestion id\n",
    "df.drop_duplicates(subset=\"id\", inplace=True)\n",
    "df.drop(columns=\"id\", inplace=True)\n",
    "df.reset_index(inplace=True, drop=True)\n",
    "\n",
    "# gestion genre\n",
    "df.drop(df[~df[\"genre\"].isin(GENRES_VALIDES)].index, inplace=True)\n",
    "df.reset_index(inplace=True, drop=True)\n",
    "df[\"neuf\"] = df[\"genre\"].isin(NEUF)\n",
    "df[\"maison\"] = df[\"genre\"].isin(MAISON)\n",
    "df.drop(columns=\"genre\", inplace=True)\n",
    "df.reset_index(inplace=True, drop=True)\n",
    "\n",
    "# gestion prix\n",
    "df[\"prix_1\"] = df[\"prix\"].str.replace(\"€\", \"\").str.replace(\" \",\"\").str.replace(\"HH\", \"\")\n",
    "df.drop(df[df[\"prix_1\"] == \"\"].index, inplace=True)\n",
    "df[\"target_prix\"] = df[\"prix_1\"].astype(float)\n",
    "df.drop(columns=\"prix_1\", inplace=True)\n",
    "df.drop(columns=\"prix\", inplace=True)\n",
    "df.reset_index(inplace=True, drop=True)\n",
    "\n",
    "# gestion pcs\n",
    "df.drop(df[~df[\"pcs\"].str.match(MOTIF_SURFACE)].index, inplace=True)\n",
    "df.reset_index(inplace=True, drop=True)\n",
    "df[\"surface\"] = df[\"pcs\"].str.extract(MOTIF_SURFACE)[0]\n",
    "df.reset_index(inplace=True, drop=True)\n",
    "df"
   ]
  },
  {
   "cell_type": "markdown",
   "id": "6ef85df1-dc75-491a-9c9c-08692227d7cb",
   "metadata": {},
   "source": [
    "# Exercice\n",
    "\n",
    "Finir de gérer la colonne `pcs`."
   ]
  },
  {
   "cell_type": "code",
   "execution_count": 6,
   "id": "4069e90c-ca39-45cd-95d1-c5f68b4dd747",
   "metadata": {},
   "outputs": [],
   "source": [
    "MOTIF_PIECES = re.compile(\"^.*?([0-9]+) p.*$\")"
   ]
  },
  {
   "cell_type": "code",
   "execution_count": 10,
   "id": "4cb10d8c-85c0-48eb-935c-177b83507603",
   "metadata": {},
   "outputs": [
    {
     "data": {
      "text/plain": [
       "array([ True])"
      ]
     },
     "execution_count": 10,
     "metadata": {},
     "output_type": "execute_result"
    }
   ],
   "source": [
    "df[\"pcs\"].str.match(MOTIF_PIECES).unique()"
   ]
  },
  {
   "cell_type": "code",
   "execution_count": 12,
   "id": "4da3e420-bcea-4d4b-a77b-b808dd77411e",
   "metadata": {},
   "outputs": [],
   "source": [
    "df[\"pieces\"] = df[\"pcs\"].str.extract(MOTIF_PIECES)"
   ]
  },
  {
   "cell_type": "code",
   "execution_count": 13,
   "id": "49d33277-5b12-4d78-beb4-7823351eb930",
   "metadata": {},
   "outputs": [],
   "source": [
    "MOTIF_CHAMBRES = re.compile(\"^.*?([0-9]+) ch.*$\")"
   ]
  },
  {
   "cell_type": "code",
   "execution_count": 17,
   "id": "24d594f6-87c5-4778-b5ce-cdd6c246ed30",
   "metadata": {},
   "outputs": [
    {
     "data": {
      "text/plain": [
       "True     1450\n",
       "False     175\n",
       "Name: pcs, dtype: int64"
      ]
     },
     "execution_count": 17,
     "metadata": {},
     "output_type": "execute_result"
    }
   ],
   "source": [
    "df[\"pcs\"].str.match(MOTIF_CHAMBRES).value_counts()"
   ]
  },
  {
   "cell_type": "markdown",
   "id": "64042846-5402-47a0-990c-83d95c7ce29f",
   "metadata": {},
   "source": [
    "**REMARQUE** on a plusieurs possibilités.\n",
    "\n",
    "1. Abandonner l'idée d'avoir une variable explicative `chambres` en considérant que `pieces` et `surface` sont suffisantes.\n",
    "2. On peut faire `drop` sur les lignes de l'échantillon sans information `chambres`, 1450 éléments restant une quantité raisonnable dans l'échantillon.\n",
    "3. On peut remplir les informations manquantes avec  `NaN`.\n",
    "On peut ensuite soit remplir le résultat avec une valeur ad hoc, soit utiliser la corrélation avec `pieces` et `surface` pour faire une régression."
   ]
  },
  {
   "cell_type": "code",
   "execution_count": 18,
   "id": "d674c4ff-7c75-46b7-8bcb-5c2b830489e0",
   "metadata": {},
   "outputs": [],
   "source": [
    "df[\"chambres\"] = df[\"pcs\"].str.extract(MOTIF_CHAMBRES)"
   ]
  },
  {
   "cell_type": "code",
   "execution_count": 20,
   "id": "0fa69a4b-614d-410f-a0e5-d5746b17dfc9",
   "metadata": {
    "collapsed": true,
    "jupyter": {
     "outputs_hidden": true
    },
    "tags": []
   },
   "outputs": [
    {
     "data": {
      "text/html": [
       "<div>\n",
       "<style scoped>\n",
       "    .dataframe tbody tr th:only-of-type {\n",
       "        vertical-align: middle;\n",
       "    }\n",
       "\n",
       "    .dataframe tbody tr th {\n",
       "        vertical-align: top;\n",
       "    }\n",
       "\n",
       "    .dataframe thead th {\n",
       "        text-align: right;\n",
       "    }\n",
       "</style>\n",
       "<table border=\"1\" class=\"dataframe\">\n",
       "  <thead>\n",
       "    <tr style=\"text-align: right;\">\n",
       "      <th></th>\n",
       "      <th>desc</th>\n",
       "      <th>lien</th>\n",
       "      <th>neuf</th>\n",
       "      <th>maison</th>\n",
       "      <th>target_prix</th>\n",
       "      <th>surface</th>\n",
       "      <th>pieces</th>\n",
       "      <th>chambres</th>\n",
       "    </tr>\n",
       "  </thead>\n",
       "  <tbody>\n",
       "    <tr>\n",
       "      <th>0</th>\n",
       "      <td>Appartement type 3 - TOURS CATHÉDRALE TOURS CA...</td>\n",
       "      <td>https://www.seloger.com/annonces/achat/apparte...</td>\n",
       "      <td>False</td>\n",
       "      <td>False</td>\n",
       "      <td>374400.0</td>\n",
       "      <td>90</td>\n",
       "      <td>3</td>\n",
       "      <td>2</td>\n",
       "    </tr>\n",
       "    <tr>\n",
       "      <th>1</th>\n",
       "      <td>TOURS HYPERCENTRE - Appartement TOURS HYPERCEN...</td>\n",
       "      <td>https://www.seloger.com/annonces/achat/apparte...</td>\n",
       "      <td>False</td>\n",
       "      <td>False</td>\n",
       "      <td>499200.0</td>\n",
       "      <td>146,27</td>\n",
       "      <td>5</td>\n",
       "      <td>4</td>\n",
       "    </tr>\n",
       "    <tr>\n",
       "      <th>2</th>\n",
       "      <td>TOURS PRÉBENDES NORD - APPARTEMENT TOURS PRÉBE...</td>\n",
       "      <td>https://www.seloger.com/annonces/achat/apparte...</td>\n",
       "      <td>False</td>\n",
       "      <td>False</td>\n",
       "      <td>499200.0</td>\n",
       "      <td>110</td>\n",
       "      <td>5</td>\n",
       "      <td>3</td>\n",
       "    </tr>\n",
       "    <tr>\n",
       "      <th>3</th>\n",
       "      <td>TOURS PRÉBENDES - PARTICULIER TOURANGEAUX TOUR...</td>\n",
       "      <td>https://www.seloger.com/annonces/achat/maison/...</td>\n",
       "      <td>False</td>\n",
       "      <td>True</td>\n",
       "      <td>508000.0</td>\n",
       "      <td>132</td>\n",
       "      <td>6</td>\n",
       "      <td>4</td>\n",
       "    </tr>\n",
       "    <tr>\n",
       "      <th>4</th>\n",
       "      <td>TOURS STRASBOURG / RABELAIS - Maison TOURS STR...</td>\n",
       "      <td>https://www.seloger.com/annonces/achat-de-pres...</td>\n",
       "      <td>False</td>\n",
       "      <td>True</td>\n",
       "      <td>676000.0</td>\n",
       "      <td>185</td>\n",
       "      <td>7</td>\n",
       "      <td>5</td>\n",
       "    </tr>\n",
       "    <tr>\n",
       "      <th>...</th>\n",
       "      <td>...</td>\n",
       "      <td>...</td>\n",
       "      <td>...</td>\n",
       "      <td>...</td>\n",
       "      <td>...</td>\n",
       "      <td>...</td>\n",
       "      <td>...</td>\n",
       "      <td>...</td>\n",
       "    </tr>\n",
       "    <tr>\n",
       "      <th>1620</th>\n",
       "      <td>Maisons de ville 3 chambres avec jardin ou app...</td>\n",
       "      <td>https://www.selogerneuf.com/annonces/achat/app...</td>\n",
       "      <td>True</td>\n",
       "      <td>False</td>\n",
       "      <td>254900.0</td>\n",
       "      <td>66,3</td>\n",
       "      <td>3</td>\n",
       "      <td>NaN</td>\n",
       "    </tr>\n",
       "    <tr>\n",
       "      <th>1621</th>\n",
       "      <td>TOURS - Fontaines, Appartement de type 2 compr...</td>\n",
       "      <td>https://www.seloger.com/annonces/achat/apparte...</td>\n",
       "      <td>False</td>\n",
       "      <td>False</td>\n",
       "      <td>61500.0</td>\n",
       "      <td>42</td>\n",
       "      <td>2</td>\n",
       "      <td>1</td>\n",
       "    </tr>\n",
       "    <tr>\n",
       "      <th>1622</th>\n",
       "      <td>TOURS - Appartement de Type 3 comprenant séjou...</td>\n",
       "      <td>https://www.seloger.com/annonces/achat/apparte...</td>\n",
       "      <td>False</td>\n",
       "      <td>False</td>\n",
       "      <td>108500.0</td>\n",
       "      <td>76</td>\n",
       "      <td>3</td>\n",
       "      <td>2</td>\n",
       "    </tr>\n",
       "    <tr>\n",
       "      <th>1623</th>\n",
       "      <td>Maisons de ville 3 chambres avec jardin ou app...</td>\n",
       "      <td>https://www.selogerneuf.com/annonces/achat/mai...</td>\n",
       "      <td>True</td>\n",
       "      <td>True</td>\n",
       "      <td>320000.0</td>\n",
       "      <td>84,4</td>\n",
       "      <td>4</td>\n",
       "      <td>NaN</td>\n",
       "    </tr>\n",
       "    <tr>\n",
       "      <th>1624</th>\n",
       "      <td>Maisons de ville 3 chambres avec jardin ou app...</td>\n",
       "      <td>https://www.selogerneuf.com/annonces/achat/mai...</td>\n",
       "      <td>True</td>\n",
       "      <td>True</td>\n",
       "      <td>320000.0</td>\n",
       "      <td>84,4</td>\n",
       "      <td>4</td>\n",
       "      <td>NaN</td>\n",
       "    </tr>\n",
       "  </tbody>\n",
       "</table>\n",
       "<p>1625 rows × 8 columns</p>\n",
       "</div>"
      ],
      "text/plain": [
       "                                                   desc  \\\n",
       "0     Appartement type 3 - TOURS CATHÉDRALE TOURS CA...   \n",
       "1     TOURS HYPERCENTRE - Appartement TOURS HYPERCEN...   \n",
       "2     TOURS PRÉBENDES NORD - APPARTEMENT TOURS PRÉBE...   \n",
       "3     TOURS PRÉBENDES - PARTICULIER TOURANGEAUX TOUR...   \n",
       "4     TOURS STRASBOURG / RABELAIS - Maison TOURS STR...   \n",
       "...                                                 ...   \n",
       "1620  Maisons de ville 3 chambres avec jardin ou app...   \n",
       "1621  TOURS - Fontaines, Appartement de type 2 compr...   \n",
       "1622  TOURS - Appartement de Type 3 comprenant séjou...   \n",
       "1623  Maisons de ville 3 chambres avec jardin ou app...   \n",
       "1624  Maisons de ville 3 chambres avec jardin ou app...   \n",
       "\n",
       "                                                   lien   neuf  maison  \\\n",
       "0     https://www.seloger.com/annonces/achat/apparte...  False   False   \n",
       "1     https://www.seloger.com/annonces/achat/apparte...  False   False   \n",
       "2     https://www.seloger.com/annonces/achat/apparte...  False   False   \n",
       "3     https://www.seloger.com/annonces/achat/maison/...  False    True   \n",
       "4     https://www.seloger.com/annonces/achat-de-pres...  False    True   \n",
       "...                                                 ...    ...     ...   \n",
       "1620  https://www.selogerneuf.com/annonces/achat/app...   True   False   \n",
       "1621  https://www.seloger.com/annonces/achat/apparte...  False   False   \n",
       "1622  https://www.seloger.com/annonces/achat/apparte...  False   False   \n",
       "1623  https://www.selogerneuf.com/annonces/achat/mai...   True    True   \n",
       "1624  https://www.selogerneuf.com/annonces/achat/mai...   True    True   \n",
       "\n",
       "      target_prix surface pieces chambres  \n",
       "0        374400.0      90      3        2  \n",
       "1        499200.0  146,27      5        4  \n",
       "2        499200.0     110      5        3  \n",
       "3        508000.0     132      6        4  \n",
       "4        676000.0     185      7        5  \n",
       "...           ...     ...    ...      ...  \n",
       "1620     254900.0    66,3      3      NaN  \n",
       "1621      61500.0      42      2        1  \n",
       "1622     108500.0      76      3        2  \n",
       "1623     320000.0    84,4      4      NaN  \n",
       "1624     320000.0    84,4      4      NaN  \n",
       "\n",
       "[1625 rows x 8 columns]"
      ]
     },
     "execution_count": 20,
     "metadata": {},
     "output_type": "execute_result"
    }
   ],
   "source": [
    "df.drop(columns=\"pcs\", inplace=True)\n",
    "df"
   ]
  },
  {
   "cell_type": "code",
   "execution_count": 22,
   "id": "5e9c829e-367f-4cde-8d2c-10a786f59ffe",
   "metadata": {},
   "outputs": [
    {
     "data": {
      "text/plain": [
       "desc            object\n",
       "lien            object\n",
       "neuf              bool\n",
       "maison            bool\n",
       "target_prix    float64\n",
       "surface         object\n",
       "pieces          object\n",
       "chambres        object\n",
       "dtype: object"
      ]
     },
     "execution_count": 22,
     "metadata": {},
     "output_type": "execute_result"
    }
   ],
   "source": [
    "df.dtypes"
   ]
  },
  {
   "cell_type": "markdown",
   "id": "d454754f-85bc-45fb-8f3a-366318c84ab4",
   "metadata": {},
   "source": [
    "# Exercice\n",
    "\n",
    "Convertissez les trois dernières colonnes en float."
   ]
  },
  {
   "cell_type": "code",
   "execution_count": 27,
   "id": "b4246c5a-8ec0-4eb9-bc07-dd51f8819c4f",
   "metadata": {},
   "outputs": [],
   "source": [
    "df[\"chambres\"] = df[\"chambres\"].astype(float)\n",
    "df[\"pieces\"] = df[\"pieces\"].astype(float)"
   ]
  },
  {
   "cell_type": "code",
   "execution_count": 28,
   "id": "fcb8ffa5-702f-4890-af98-d68e672ea7ad",
   "metadata": {},
   "outputs": [
    {
     "data": {
      "text/plain": [
       "desc            object\n",
       "lien            object\n",
       "neuf              bool\n",
       "maison            bool\n",
       "target_prix    float64\n",
       "surface         object\n",
       "pieces         float64\n",
       "chambres       float64\n",
       "dtype: object"
      ]
     },
     "execution_count": 28,
     "metadata": {},
     "output_type": "execute_result"
    }
   ],
   "source": [
    "df.dtypes"
   ]
  },
  {
   "cell_type": "code",
   "execution_count": 31,
   "id": "8076814c-8ea1-4f35-8bed-0d8d17a4bd56",
   "metadata": {},
   "outputs": [],
   "source": [
    "df[\"surface\"] = df[\"surface\"].str.replace(\",\", \".\").astype(float)"
   ]
  },
  {
   "cell_type": "code",
   "execution_count": 32,
   "id": "bfc1f625-f390-4f94-add6-a6d19c5597ab",
   "metadata": {},
   "outputs": [
    {
     "data": {
      "text/plain": [
       "desc            object\n",
       "lien            object\n",
       "neuf              bool\n",
       "maison            bool\n",
       "target_prix    float64\n",
       "surface        float64\n",
       "pieces         float64\n",
       "chambres       float64\n",
       "dtype: object"
      ]
     },
     "execution_count": 32,
     "metadata": {},
     "output_type": "execute_result"
    }
   ],
   "source": [
    "df.dtypes"
   ]
  },
  {
   "cell_type": "markdown",
   "id": "8b93ca12-5bcf-409f-8cfe-48e5f98a903c",
   "metadata": {},
   "source": [
    "**REMARQUE** à ce stade on a la cible et 5 variables explicatives numériques.\n",
    "Avant de chercher à exploiter `desc` et `lien` qui sont délicates, on va essayer d'entrainer des modèles sur ce dataframe."
   ]
  },
  {
   "cell_type": "markdown",
   "id": "4d52654a-267e-4f6e-a10f-1e270e24c618",
   "metadata": {},
   "source": [
    "# Exercice\n",
    "\n",
    "Entrainer des modèles pour estimer le pouvoir explicatif des variables explicatives déjà présentes.\n",
    "\n",
    "On cherchera à utiliser la fonction `GridSearchCV` de sckikit-learn pour simplifier le code.\n",
    "\n",
    "On réfléchira aussi à l'imputation sur les valeurs manquantes de la variable `chambres`.\n",
    "On pourra en particulier utiliser le module `sklearn.impute` pour voir différentes possibilités."
   ]
  },
  {
   "cell_type": "code",
   "execution_count": 37,
   "id": "750de60a-23bb-4fc0-9937-c45f39e3056d",
   "metadata": {},
   "outputs": [],
   "source": [
    "import numpy as np"
   ]
  },
  {
   "cell_type": "code",
   "execution_count": 47,
   "id": "dcc7dbb2-0795-4611-9d84-7021381431bf",
   "metadata": {},
   "outputs": [],
   "source": [
    "from sklearn.model_selection import train_test_split, GridSearchCV\n",
    "from sklearn.neighbors import KNeighborsRegressor\n",
    "from sklearn.ensemble import RandomForestRegressor, GradientBoostingRegressor\n",
    "from sklearn.neural_network import MLPRegressor\n",
    "from sklearn.linear_model import LinearRegression, Ridge\n",
    "from sklearn.svm import SVR\n",
    "from sklearn.impute import SimpleImputer, KNNImputer, MissingIndicator\n",
    "from sklearn.pipeline import Pipeline, FeatureUnion"
   ]
  },
  {
   "cell_type": "markdown",
   "id": "ceb5f156-8fc4-4615-b16c-eed314f02fea",
   "metadata": {},
   "source": [
    "## Récupéraration des tableaux numériques"
   ]
  },
  {
   "cell_type": "code",
   "execution_count": 42,
   "id": "0560de19-2a2f-4c57-94d1-0a7706dcb66c",
   "metadata": {},
   "outputs": [
    {
     "name": "stdout",
     "output_type": "stream",
     "text": [
      "float64\n"
     ]
    },
    {
     "data": {
      "text/plain": [
       "array([[  0.  ,   0.  ,   3.  ,  90.  ,   2.  ],\n",
       "       [  0.  ,   0.  ,   5.  , 146.27,   4.  ],\n",
       "       [  0.  ,   0.  ,   5.  , 110.  ,   3.  ],\n",
       "       ...,\n",
       "       [  0.  ,   0.  ,   3.  ,  76.  ,   2.  ],\n",
       "       [  1.  ,   1.  ,   4.  ,  84.4 ,    nan],\n",
       "       [  1.  ,   1.  ,   4.  ,  84.4 ,    nan]])"
      ]
     },
     "execution_count": 42,
     "metadata": {},
     "output_type": "execute_result"
    }
   ],
   "source": [
    "X = df[[\"neuf\", \"maison\", \"pieces\", \"surface\", \"chambres\"]].astype(float).values\n",
    "print(X.dtype)\n",
    "X"
   ]
  },
  {
   "cell_type": "code",
   "execution_count": 44,
   "id": "4327c65b-c51d-4b06-bffe-0a4f1a2dfd72",
   "metadata": {},
   "outputs": [
    {
     "data": {
      "text/plain": [
       "array([374400., 499200., 499200., ..., 108500., 320000., 320000.])"
      ]
     },
     "execution_count": 44,
     "metadata": {},
     "output_type": "execute_result"
    }
   ],
   "source": [
    "y = df[\"target_prix\"].values\n",
    "y"
   ]
  },
  {
   "cell_type": "code",
   "execution_count": 46,
   "id": "09747dc4-513d-49d6-b0e0-176c39e35993",
   "metadata": {},
   "outputs": [],
   "source": [
    "X_tr, X_te, y_tr, y_te = train_test_split(X, y, test_size=0.2)"
   ]
  },
  {
   "cell_type": "markdown",
   "id": "23b76049-4fde-4345-9e03-6df5307cf300",
   "metadata": {},
   "source": [
    "# Sélection du meilleur modèle\n",
    "\n",
    "Attention, comme il y a plusieurs stratégie d'imputation, le choix du type d'imputation doit être considéré comme un hyperparamètre."
   ]
  },
  {
   "cell_type": "code",
   "execution_count": 48,
   "id": "73dbe9cf-cba7-4414-8794-a18b768262e7",
   "metadata": {},
   "outputs": [],
   "source": [
    "ri = Pipeline(\n",
    "    [\n",
    "        (\"imputation\", SimpleImputer()),\n",
    "        (\"entrainement\", Ridge()),\n",
    "    ]\n",
    ")"
   ]
  },
  {
   "cell_type": "markdown",
   "id": "ffc96012-de33-4c47-8db3-3694250a43a0",
   "metadata": {},
   "source": [
    "**REMARQUE** dans `ri` il y a deux hyperparamètres: \n",
    "\n",
    "1. `strategy` en provenance du `SimpleImputer`\n",
    "2. `alpha` en provenance de `Ridge`"
   ]
  },
  {
   "cell_type": "code",
   "execution_count": 49,
   "id": "13f1a553-59e9-4686-a6b7-dc8d3a8525b5",
   "metadata": {},
   "outputs": [
    {
     "data": {
      "text/plain": [
       "{'memory': None,\n",
       " 'steps': [('imputation', SimpleImputer()), ('entrainement', Ridge())],\n",
       " 'verbose': False,\n",
       " 'imputation': SimpleImputer(),\n",
       " 'entrainement': Ridge(),\n",
       " 'imputation__add_indicator': False,\n",
       " 'imputation__copy': True,\n",
       " 'imputation__fill_value': None,\n",
       " 'imputation__keep_empty_features': False,\n",
       " 'imputation__missing_values': nan,\n",
       " 'imputation__strategy': 'mean',\n",
       " 'imputation__verbose': 'deprecated',\n",
       " 'entrainement__alpha': 1.0,\n",
       " 'entrainement__copy_X': True,\n",
       " 'entrainement__fit_intercept': True,\n",
       " 'entrainement__max_iter': None,\n",
       " 'entrainement__positive': False,\n",
       " 'entrainement__random_state': None,\n",
       " 'entrainement__solver': 'auto',\n",
       " 'entrainement__tol': 0.0001}"
      ]
     },
     "execution_count": 49,
     "metadata": {},
     "output_type": "execute_result"
    }
   ],
   "source": [
    "ri.get_params()"
   ]
  },
  {
   "cell_type": "markdown",
   "id": "8a2876dd-9821-4648-b6d0-5ac5c2b20e2d",
   "metadata": {},
   "source": [
    "On voit que dans `ri` les hyperparamètres qu'on veut explorer sont maintenant nommés:\n",
    "1. `imputation__strategy` \n",
    "2. `entrainement__alpha`\n",
    "\n",
    "On a juste ajouté le nom de l'étape comme préfixe."
   ]
  },
  {
   "cell_type": "code",
   "execution_count": 61,
   "id": "6d053f92-4a39-4b5d-ae51-12be9fca214d",
   "metadata": {},
   "outputs": [],
   "source": [
    "gr = GridSearchCV(\n",
    "    estimator=ri,\n",
    "    param_grid={\n",
    "        \"imputation__strategy\": [\"mean\", \"median\", \"most_frequent\"],\n",
    "        \"entrainement__alpha\": [2  ** p for p in range(-6, 7)],\n",
    "    }\n",
    ")\n",
    "gr.fit(X_tr, y_tr)\n",
    "indice_meilleur = gr.cv_results_[\"rank_test_score\"].argmin()\n",
    "print(indice_meilleur)\n",
    "print(gr.cv_results_[\"params\"][indice_meilleur])\n",
    "print(gr.cv_results_[\"rank_test_score\"][indice_meilleur])\n",
    "print(gr.cv_results_[\"mean_test_score\"][indice_meilleur])\n",
    "print(gr.cv_results_[\"std_test_score\"][indice_meilleur])"
   ]
  },
  {
   "cell_type": "code",
   "execution_count": 62,
   "id": "3d3d0ec0-ae1c-4536-a319-ae350039802a",
   "metadata": {},
   "outputs": [],
   "source": [
    "from sklearn.preprocessing import MinMaxScaler"
   ]
  },
  {
   "cell_type": "code",
   "execution_count": null,
   "id": "11395015-638f-46c5-963e-ced2ed1e811f",
   "metadata": {
    "tags": []
   },
   "outputs": [
    {
     "name": "stderr",
     "output_type": "stream",
     "text": [
      "C:\\ProgramData\\anaconda3\\lib\\site-packages\\sklearn\\neural_network\\_multilayer_perceptron.py:684: ConvergenceWarning: Stochastic Optimizer: Maximum iterations (1000) reached and the optimization hasn't converged yet.\n",
      "  warnings.warn(\n",
      "C:\\ProgramData\\anaconda3\\lib\\site-packages\\sklearn\\neural_network\\_multilayer_perceptron.py:684: ConvergenceWarning: Stochastic Optimizer: Maximum iterations (1000) reached and the optimization hasn't converged yet.\n",
      "  warnings.warn(\n",
      "C:\\ProgramData\\anaconda3\\lib\\site-packages\\sklearn\\neural_network\\_multilayer_perceptron.py:684: ConvergenceWarning: Stochastic Optimizer: Maximum iterations (1000) reached and the optimization hasn't converged yet.\n",
      "  warnings.warn(\n",
      "C:\\ProgramData\\anaconda3\\lib\\site-packages\\sklearn\\neural_network\\_multilayer_perceptron.py:684: ConvergenceWarning: Stochastic Optimizer: Maximum iterations (1000) reached and the optimization hasn't converged yet.\n",
      "  warnings.warn(\n",
      "C:\\ProgramData\\anaconda3\\lib\\site-packages\\sklearn\\neural_network\\_multilayer_perceptron.py:684: ConvergenceWarning: Stochastic Optimizer: Maximum iterations (1000) reached and the optimization hasn't converged yet.\n",
      "  warnings.warn(\n",
      "C:\\ProgramData\\anaconda3\\lib\\site-packages\\sklearn\\neural_network\\_multilayer_perceptron.py:684: ConvergenceWarning: Stochastic Optimizer: Maximum iterations (1000) reached and the optimization hasn't converged yet.\n",
      "  warnings.warn(\n",
      "C:\\ProgramData\\anaconda3\\lib\\site-packages\\sklearn\\neural_network\\_multilayer_perceptron.py:684: ConvergenceWarning: Stochastic Optimizer: Maximum iterations (1000) reached and the optimization hasn't converged yet.\n",
      "  warnings.warn(\n",
      "C:\\ProgramData\\anaconda3\\lib\\site-packages\\sklearn\\neural_network\\_multilayer_perceptron.py:684: ConvergenceWarning: Stochastic Optimizer: Maximum iterations (1000) reached and the optimization hasn't converged yet.\n",
      "  warnings.warn(\n",
      "C:\\ProgramData\\anaconda3\\lib\\site-packages\\sklearn\\neural_network\\_multilayer_perceptron.py:684: ConvergenceWarning: Stochastic Optimizer: Maximum iterations (1000) reached and the optimization hasn't converged yet.\n",
      "  warnings.warn(\n",
      "C:\\ProgramData\\anaconda3\\lib\\site-packages\\sklearn\\neural_network\\_multilayer_perceptron.py:684: ConvergenceWarning: Stochastic Optimizer: Maximum iterations (1000) reached and the optimization hasn't converged yet.\n",
      "  warnings.warn(\n",
      "C:\\ProgramData\\anaconda3\\lib\\site-packages\\sklearn\\neural_network\\_multilayer_perceptron.py:684: ConvergenceWarning: Stochastic Optimizer: Maximum iterations (1000) reached and the optimization hasn't converged yet.\n",
      "  warnings.warn(\n",
      "C:\\ProgramData\\anaconda3\\lib\\site-packages\\sklearn\\neural_network\\_multilayer_perceptron.py:684: ConvergenceWarning: Stochastic Optimizer: Maximum iterations (1000) reached and the optimization hasn't converged yet.\n",
      "  warnings.warn(\n",
      "C:\\ProgramData\\anaconda3\\lib\\site-packages\\sklearn\\neural_network\\_multilayer_perceptron.py:684: ConvergenceWarning: Stochastic Optimizer: Maximum iterations (1000) reached and the optimization hasn't converged yet.\n",
      "  warnings.warn(\n",
      "C:\\ProgramData\\anaconda3\\lib\\site-packages\\sklearn\\neural_network\\_multilayer_perceptron.py:684: ConvergenceWarning: Stochastic Optimizer: Maximum iterations (1000) reached and the optimization hasn't converged yet.\n",
      "  warnings.warn(\n",
      "C:\\ProgramData\\anaconda3\\lib\\site-packages\\sklearn\\neural_network\\_multilayer_perceptron.py:684: ConvergenceWarning: Stochastic Optimizer: Maximum iterations (1000) reached and the optimization hasn't converged yet.\n",
      "  warnings.warn(\n",
      "C:\\ProgramData\\anaconda3\\lib\\site-packages\\sklearn\\neural_network\\_multilayer_perceptron.py:684: ConvergenceWarning: Stochastic Optimizer: Maximum iterations (1000) reached and the optimization hasn't converged yet.\n",
      "  warnings.warn(\n",
      "C:\\ProgramData\\anaconda3\\lib\\site-packages\\sklearn\\neural_network\\_multilayer_perceptron.py:684: ConvergenceWarning: Stochastic Optimizer: Maximum iterations (1000) reached and the optimization hasn't converged yet.\n",
      "  warnings.warn(\n",
      "C:\\ProgramData\\anaconda3\\lib\\site-packages\\sklearn\\neural_network\\_multilayer_perceptron.py:684: ConvergenceWarning: Stochastic Optimizer: Maximum iterations (1000) reached and the optimization hasn't converged yet.\n",
      "  warnings.warn(\n",
      "C:\\ProgramData\\anaconda3\\lib\\site-packages\\sklearn\\neural_network\\_multilayer_perceptron.py:691: UserWarning: Training interrupted by user.\n",
      "  warnings.warn(\"Training interrupted by user.\")\n",
      "C:\\ProgramData\\anaconda3\\lib\\site-packages\\sklearn\\neural_network\\_multilayer_perceptron.py:684: ConvergenceWarning: Stochastic Optimizer: Maximum iterations (1000) reached and the optimization hasn't converged yet.\n",
      "  warnings.warn(\n",
      "C:\\ProgramData\\anaconda3\\lib\\site-packages\\sklearn\\neural_network\\_multilayer_perceptron.py:684: ConvergenceWarning: Stochastic Optimizer: Maximum iterations (1000) reached and the optimization hasn't converged yet.\n",
      "  warnings.warn(\n",
      "C:\\ProgramData\\anaconda3\\lib\\site-packages\\sklearn\\neural_network\\_multilayer_perceptron.py:684: ConvergenceWarning: Stochastic Optimizer: Maximum iterations (1000) reached and the optimization hasn't converged yet.\n",
      "  warnings.warn(\n",
      "C:\\ProgramData\\anaconda3\\lib\\site-packages\\sklearn\\neural_network\\_multilayer_perceptron.py:684: ConvergenceWarning: Stochastic Optimizer: Maximum iterations (1000) reached and the optimization hasn't converged yet.\n",
      "  warnings.warn(\n",
      "C:\\ProgramData\\anaconda3\\lib\\site-packages\\sklearn\\neural_network\\_multilayer_perceptron.py:684: ConvergenceWarning: Stochastic Optimizer: Maximum iterations (1000) reached and the optimization hasn't converged yet.\n",
      "  warnings.warn(\n",
      "C:\\ProgramData\\anaconda3\\lib\\site-packages\\sklearn\\neural_network\\_multilayer_perceptron.py:684: ConvergenceWarning: Stochastic Optimizer: Maximum iterations (1000) reached and the optimization hasn't converged yet.\n",
      "  warnings.warn(\n",
      "C:\\ProgramData\\anaconda3\\lib\\site-packages\\sklearn\\neural_network\\_multilayer_perceptron.py:684: ConvergenceWarning: Stochastic Optimizer: Maximum iterations (1000) reached and the optimization hasn't converged yet.\n",
      "  warnings.warn(\n",
      "C:\\ProgramData\\anaconda3\\lib\\site-packages\\sklearn\\neural_network\\_multilayer_perceptron.py:684: ConvergenceWarning: Stochastic Optimizer: Maximum iterations (1000) reached and the optimization hasn't converged yet.\n",
      "  warnings.warn(\n",
      "C:\\ProgramData\\anaconda3\\lib\\site-packages\\sklearn\\neural_network\\_multilayer_perceptron.py:684: ConvergenceWarning: Stochastic Optimizer: Maximum iterations (1000) reached and the optimization hasn't converged yet.\n",
      "  warnings.warn(\n",
      "C:\\ProgramData\\anaconda3\\lib\\site-packages\\sklearn\\neural_network\\_multilayer_perceptron.py:684: ConvergenceWarning: Stochastic Optimizer: Maximum iterations (1000) reached and the optimization hasn't converged yet.\n",
      "  warnings.warn(\n",
      "C:\\ProgramData\\anaconda3\\lib\\site-packages\\sklearn\\neural_network\\_multilayer_perceptron.py:684: ConvergenceWarning: Stochastic Optimizer: Maximum iterations (1000) reached and the optimization hasn't converged yet.\n",
      "  warnings.warn(\n",
      "C:\\ProgramData\\anaconda3\\lib\\site-packages\\sklearn\\neural_network\\_multilayer_perceptron.py:684: ConvergenceWarning: Stochastic Optimizer: Maximum iterations (1000) reached and the optimization hasn't converged yet.\n",
      "  warnings.warn(\n",
      "C:\\ProgramData\\anaconda3\\lib\\site-packages\\sklearn\\neural_network\\_multilayer_perceptron.py:684: ConvergenceWarning: Stochastic Optimizer: Maximum iterations (1000) reached and the optimization hasn't converged yet.\n",
      "  warnings.warn(\n",
      "C:\\ProgramData\\anaconda3\\lib\\site-packages\\sklearn\\neural_network\\_multilayer_perceptron.py:684: ConvergenceWarning: Stochastic Optimizer: Maximum iterations (1000) reached and the optimization hasn't converged yet.\n",
      "  warnings.warn(\n",
      "C:\\ProgramData\\anaconda3\\lib\\site-packages\\sklearn\\neural_network\\_multilayer_perceptron.py:684: ConvergenceWarning: Stochastic Optimizer: Maximum iterations (1000) reached and the optimization hasn't converged yet.\n",
      "  warnings.warn(\n",
      "C:\\ProgramData\\anaconda3\\lib\\site-packages\\sklearn\\neural_network\\_multilayer_perceptron.py:684: ConvergenceWarning: Stochastic Optimizer: Maximum iterations (1000) reached and the optimization hasn't converged yet.\n",
      "  warnings.warn(\n",
      "C:\\ProgramData\\anaconda3\\lib\\site-packages\\sklearn\\neural_network\\_multilayer_perceptron.py:684: ConvergenceWarning: Stochastic Optimizer: Maximum iterations (1000) reached and the optimization hasn't converged yet.\n",
      "  warnings.warn(\n",
      "C:\\ProgramData\\anaconda3\\lib\\site-packages\\sklearn\\neural_network\\_multilayer_perceptron.py:684: ConvergenceWarning: Stochastic Optimizer: Maximum iterations (1000) reached and the optimization hasn't converged yet.\n",
      "  warnings.warn(\n",
      "C:\\ProgramData\\anaconda3\\lib\\site-packages\\sklearn\\neural_network\\_multilayer_perceptron.py:684: ConvergenceWarning: Stochastic Optimizer: Maximum iterations (1000) reached and the optimization hasn't converged yet.\n",
      "  warnings.warn(\n",
      "C:\\ProgramData\\anaconda3\\lib\\site-packages\\sklearn\\neural_network\\_multilayer_perceptron.py:684: ConvergenceWarning: Stochastic Optimizer: Maximum iterations (1000) reached and the optimization hasn't converged yet.\n",
      "  warnings.warn(\n",
      "C:\\ProgramData\\anaconda3\\lib\\site-packages\\sklearn\\neural_network\\_multilayer_perceptron.py:684: ConvergenceWarning: Stochastic Optimizer: Maximum iterations (1000) reached and the optimization hasn't converged yet.\n",
      "  warnings.warn(\n",
      "C:\\ProgramData\\anaconda3\\lib\\site-packages\\sklearn\\neural_network\\_multilayer_perceptron.py:684: ConvergenceWarning: Stochastic Optimizer: Maximum iterations (1000) reached and the optimization hasn't converged yet.\n",
      "  warnings.warn(\n",
      "C:\\ProgramData\\anaconda3\\lib\\site-packages\\sklearn\\neural_network\\_multilayer_perceptron.py:684: ConvergenceWarning: Stochastic Optimizer: Maximum iterations (1000) reached and the optimization hasn't converged yet.\n",
      "  warnings.warn(\n",
      "C:\\ProgramData\\anaconda3\\lib\\site-packages\\sklearn\\neural_network\\_multilayer_perceptron.py:684: ConvergenceWarning: Stochastic Optimizer: Maximum iterations (1000) reached and the optimization hasn't converged yet.\n",
      "  warnings.warn(\n",
      "C:\\ProgramData\\anaconda3\\lib\\site-packages\\sklearn\\neural_network\\_multilayer_perceptron.py:684: ConvergenceWarning: Stochastic Optimizer: Maximum iterations (1000) reached and the optimization hasn't converged yet.\n",
      "  warnings.warn(\n",
      "C:\\ProgramData\\anaconda3\\lib\\site-packages\\sklearn\\neural_network\\_multilayer_perceptron.py:684: ConvergenceWarning: Stochastic Optimizer: Maximum iterations (1000) reached and the optimization hasn't converged yet.\n",
      "  warnings.warn(\n",
      "C:\\ProgramData\\anaconda3\\lib\\site-packages\\sklearn\\neural_network\\_multilayer_perceptron.py:684: ConvergenceWarning: Stochastic Optimizer: Maximum iterations (1000) reached and the optimization hasn't converged yet.\n",
      "  warnings.warn(\n",
      "C:\\ProgramData\\anaconda3\\lib\\site-packages\\sklearn\\neural_network\\_multilayer_perceptron.py:691: UserWarning: Training interrupted by user.\n",
      "  warnings.warn(\"Training interrupted by user.\")\n",
      "C:\\ProgramData\\anaconda3\\lib\\site-packages\\sklearn\\neural_network\\_multilayer_perceptron.py:684: ConvergenceWarning: Stochastic Optimizer: Maximum iterations (1000) reached and the optimization hasn't converged yet.\n",
      "  warnings.warn(\n",
      "C:\\ProgramData\\anaconda3\\lib\\site-packages\\sklearn\\neural_network\\_multilayer_perceptron.py:684: ConvergenceWarning: Stochastic Optimizer: Maximum iterations (1000) reached and the optimization hasn't converged yet.\n",
      "  warnings.warn(\n",
      "C:\\ProgramData\\anaconda3\\lib\\site-packages\\sklearn\\neural_network\\_multilayer_perceptron.py:684: ConvergenceWarning: Stochastic Optimizer: Maximum iterations (1000) reached and the optimization hasn't converged yet.\n",
      "  warnings.warn(\n",
      "C:\\ProgramData\\anaconda3\\lib\\site-packages\\sklearn\\neural_network\\_multilayer_perceptron.py:684: ConvergenceWarning: Stochastic Optimizer: Maximum iterations (1000) reached and the optimization hasn't converged yet.\n",
      "  warnings.warn(\n",
      "C:\\ProgramData\\anaconda3\\lib\\site-packages\\sklearn\\neural_network\\_multilayer_perceptron.py:684: ConvergenceWarning: Stochastic Optimizer: Maximum iterations (1000) reached and the optimization hasn't converged yet.\n",
      "  warnings.warn(\n",
      "C:\\ProgramData\\anaconda3\\lib\\site-packages\\sklearn\\neural_network\\_multilayer_perceptron.py:684: ConvergenceWarning: Stochastic Optimizer: Maximum iterations (1000) reached and the optimization hasn't converged yet.\n",
      "  warnings.warn(\n",
      "C:\\ProgramData\\anaconda3\\lib\\site-packages\\sklearn\\neural_network\\_multilayer_perceptron.py:684: ConvergenceWarning: Stochastic Optimizer: Maximum iterations (1000) reached and the optimization hasn't converged yet.\n",
      "  warnings.warn(\n",
      "C:\\ProgramData\\anaconda3\\lib\\site-packages\\sklearn\\neural_network\\_multilayer_perceptron.py:684: ConvergenceWarning: Stochastic Optimizer: Maximum iterations (1000) reached and the optimization hasn't converged yet.\n",
      "  warnings.warn(\n",
      "C:\\ProgramData\\anaconda3\\lib\\site-packages\\sklearn\\neural_network\\_multilayer_perceptron.py:684: ConvergenceWarning: Stochastic Optimizer: Maximum iterations (1000) reached and the optimization hasn't converged yet.\n",
      "  warnings.warn(\n",
      "C:\\ProgramData\\anaconda3\\lib\\site-packages\\sklearn\\neural_network\\_multilayer_perceptron.py:684: ConvergenceWarning: Stochastic Optimizer: Maximum iterations (1000) reached and the optimization hasn't converged yet.\n",
      "  warnings.warn(\n",
      "C:\\ProgramData\\anaconda3\\lib\\site-packages\\sklearn\\neural_network\\_multilayer_perceptron.py:684: ConvergenceWarning: Stochastic Optimizer: Maximum iterations (1000) reached and the optimization hasn't converged yet.\n",
      "  warnings.warn(\n",
      "C:\\ProgramData\\anaconda3\\lib\\site-packages\\sklearn\\neural_network\\_multilayer_perceptron.py:684: ConvergenceWarning: Stochastic Optimizer: Maximum iterations (1000) reached and the optimization hasn't converged yet.\n",
      "  warnings.warn(\n",
      "C:\\ProgramData\\anaconda3\\lib\\site-packages\\sklearn\\neural_network\\_multilayer_perceptron.py:684: ConvergenceWarning: Stochastic Optimizer: Maximum iterations (1000) reached and the optimization hasn't converged yet.\n",
      "  warnings.warn(\n",
      "C:\\ProgramData\\anaconda3\\lib\\site-packages\\sklearn\\neural_network\\_multilayer_perceptron.py:684: ConvergenceWarning: Stochastic Optimizer: Maximum iterations (1000) reached and the optimization hasn't converged yet.\n",
      "  warnings.warn(\n",
      "C:\\ProgramData\\anaconda3\\lib\\site-packages\\sklearn\\neural_network\\_multilayer_perceptron.py:684: ConvergenceWarning: Stochastic Optimizer: Maximum iterations (1000) reached and the optimization hasn't converged yet.\n",
      "  warnings.warn(\n",
      "C:\\ProgramData\\anaconda3\\lib\\site-packages\\sklearn\\neural_network\\_multilayer_perceptron.py:684: ConvergenceWarning: Stochastic Optimizer: Maximum iterations (1000) reached and the optimization hasn't converged yet.\n",
      "  warnings.warn(\n",
      "C:\\ProgramData\\anaconda3\\lib\\site-packages\\sklearn\\neural_network\\_multilayer_perceptron.py:684: ConvergenceWarning: Stochastic Optimizer: Maximum iterations (1000) reached and the optimization hasn't converged yet.\n",
      "  warnings.warn(\n",
      "C:\\ProgramData\\anaconda3\\lib\\site-packages\\sklearn\\neural_network\\_multilayer_perceptron.py:684: ConvergenceWarning: Stochastic Optimizer: Maximum iterations (1000) reached and the optimization hasn't converged yet.\n",
      "  warnings.warn(\n",
      "C:\\ProgramData\\anaconda3\\lib\\site-packages\\sklearn\\neural_network\\_multilayer_perceptron.py:684: ConvergenceWarning: Stochastic Optimizer: Maximum iterations (1000) reached and the optimization hasn't converged yet.\n",
      "  warnings.warn(\n",
      "C:\\ProgramData\\anaconda3\\lib\\site-packages\\sklearn\\neural_network\\_multilayer_perceptron.py:684: ConvergenceWarning: Stochastic Optimizer: Maximum iterations (1000) reached and the optimization hasn't converged yet.\n",
      "  warnings.warn(\n",
      "C:\\ProgramData\\anaconda3\\lib\\site-packages\\sklearn\\neural_network\\_multilayer_perceptron.py:684: ConvergenceWarning: Stochastic Optimizer: Maximum iterations (1000) reached and the optimization hasn't converged yet.\n",
      "  warnings.warn(\n",
      "C:\\ProgramData\\anaconda3\\lib\\site-packages\\sklearn\\neural_network\\_multilayer_perceptron.py:691: UserWarning: Training interrupted by user.\n",
      "  warnings.warn(\"Training interrupted by user.\")\n"
     ]
    }
   ],
   "source": [
    "# Gérer SimpleImputer et MPLRegressor\n",
    "mlp  = Pipeline(\n",
    "    [\n",
    "        (\"imputation\", SimpleImputer()),\n",
    "        (\"echelle\", MinMaxScaler()),\n",
    "        (\"entrainement\", MLPRegressor()),\n",
    "    ]\n",
    ")\n",
    "gr = GridSearchCV(\n",
    "    estimator=mlp,\n",
    "    param_grid={\n",
    "        \"imputation__strategy\": [\"mean\", \"median\", \"most_frequent\"],\n",
    "        \"entrainement__hidden_layer_sizes\": [(50, ), (100,), (150,) ,(200,), (250,)],\n",
    "        \"entrainement__max_iter\": [1000],\n",
    "    }\n",
    ")\n",
    "gr.fit(X_tr, y_tr)\n",
    "indice_meilleur = gr.cv_results_[\"rank_test_score\"].argmin()\n",
    "print(indice_meilleur)\n",
    "print(gr.cv_results_[\"params\"][indice_meilleur])\n",
    "print(gr.cv_results_[\"rank_test_score\"][indice_meilleur])\n",
    "print(gr.cv_results_[\"mean_test_score\"][indice_meilleur])\n",
    "print(gr.cv_results_[\"std_test_score\"][indice_meilleur])"
   ]
  },
  {
   "cell_type": "markdown",
   "id": "fab9b282-07b4-49d6-8197-e8bcefab6e73",
   "metadata": {},
   "source": [
    "# Vérification du surapprentissage\n",
    "\n",
    "TBD..."
   ]
  },
  {
   "cell_type": "code",
   "execution_count": null,
   "id": "bcda9e8e-3c1c-4eba-ba89-745ee437f818",
   "metadata": {},
   "outputs": [],
   "source": []
  }
 ],
 "metadata": {
  "kernelspec": {
   "display_name": "Python 3 (ipykernel)",
   "language": "python",
   "name": "python3"
  },
  "language_info": {
   "codemirror_mode": {
    "name": "ipython",
    "version": 3
   },
   "file_extension": ".py",
   "mimetype": "text/x-python",
   "name": "python",
   "nbconvert_exporter": "python",
   "pygments_lexer": "ipython3",
   "version": "3.10.9"
  }
 },
 "nbformat": 4,
 "nbformat_minor": 5
}
